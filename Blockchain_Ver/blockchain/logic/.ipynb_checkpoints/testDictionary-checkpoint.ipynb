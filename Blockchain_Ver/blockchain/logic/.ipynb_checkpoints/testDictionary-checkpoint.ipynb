{
 "cells": [
  {
   "cell_type": "code",
   "execution_count": 1,
   "id": "96d0bde9",
   "metadata": {},
   "outputs": [],
   "source": [
    "import json"
   ]
  },
  {
   "cell_type": "code",
   "execution_count": 2,
   "id": "b6122f24",
   "metadata": {},
   "outputs": [
    {
     "data": {
      "text/plain": [
       "HexBytes('0xbc36789e7a1e281436464229828f817d6612f7b477d66591ff96a9e064bcc98a')"
      ]
     },
     "execution_count": 2,
     "metadata": {},
     "output_type": "execute_result"
    }
   ],
   "source": [
    "from web3 import Web3\n",
    "Web3.keccak(0)"
   ]
  },
  {
   "cell_type": "code",
   "execution_count": 3,
   "id": "90efe064",
   "metadata": {},
   "outputs": [
    {
     "data": {
      "text/plain": [
       "HexBytes('0x5fe7f977e71dba2ea1a68e21057beebb9be2ac30c6410aa38d4f3fbe41dcffd2')"
      ]
     },
     "execution_count": 3,
     "metadata": {},
     "output_type": "execute_result"
    }
   ],
   "source": [
    "Web3.keccak(1)"
   ]
  },
  {
   "cell_type": "code",
   "execution_count": 4,
   "id": "a81914ef",
   "metadata": {},
   "outputs": [
    {
     "data": {
      "text/plain": [
       "HexBytes('0xf2ee15ea639b73fa3db9b34a245bdfa015c260c598b211bf05a1ecc4b3e3b4f2')"
      ]
     },
     "execution_count": 4,
     "metadata": {},
     "output_type": "execute_result"
    }
   ],
   "source": [
    "Web3.keccak(2)"
   ]
  },
  {
   "cell_type": "code",
   "execution_count": 5,
   "id": "25d78a45",
   "metadata": {},
   "outputs": [],
   "source": [
    "questions = {1:{\n",
    "        \"Index\" : \"1\",\n",
    "        \"questionId\": \"0x5fe7f977e71dba2ea1a68e21057beebb9be2ac30c6410aa38d4f3fbe41dcffd2\",\n",
    "        \"title\": \"Will the US have more than 200,000 new daily COVID-19 cases on or before October 1, 2021?\",\n",
    "        \"outcomes\": [\n",
    "            {\n",
    "                \"title\": \"Yes\"\n",
    "            },\n",
    "            {\n",
    "                \"title\": \"No\"\n",
    "            }\n",
    "        ]\n",
    "    },\n",
    "    2: {\n",
    "        \"Index\" : \"2\",\n",
    "        \"questionId\": \"0xf2ee15ea639b73fa3db9b34a245bdfa015c260c598b211bf05a1ecc4b3e3b4f2\",\n",
    "        \"title\": \"Will Donald Trump be the 2024 Republican presidential nominee?\",\n",
    "        \"outcomes\": [\n",
    "            {\n",
    "                \"title\": \"Yes\"\n",
    "            },\n",
    "            {\n",
    "                \"title\": \"No\"\n",
    "            }\n",
    "        ]\n",
    "    }}"
   ]
  },
  {
   "cell_type": "code",
   "execution_count": 6,
   "id": "f4e77b8e",
   "metadata": {},
   "outputs": [
    {
     "name": "stdout",
     "output_type": "stream",
     "text": [
      "<class 'dict'>\n"
     ]
    }
   ],
   "source": [
    "print(type(questions))"
   ]
  },
  {
   "cell_type": "code",
   "execution_count": 7,
   "id": "91bc9038",
   "metadata": {},
   "outputs": [],
   "source": [
    "question_new = {\n",
    "        \"Index\" : \"3\",\n",
    "        \"questionId\": \"0x69c322e3248a5dfc29d73c5b0553b0185a35cd5bb6386747517ef7e53b15e287\",\n",
    "        \"title\": \"Will more than 2.3 million people travel through a TSA checkpoint on any day on or before September 15?\",\n",
    "        \"outcomes\": [\n",
    "            {\n",
    "                \"title\": \"Yes\"\n",
    "            },\n",
    "            {\n",
    "                \"title\": \"No\"\n",
    "            }\n",
    "        ]\n",
    "    }"
   ]
  },
  {
   "cell_type": "code",
   "execution_count": 8,
   "id": "93bc7173",
   "metadata": {},
   "outputs": [
    {
     "data": {
      "text/plain": [
       "{'Index': '3',\n",
       " 'questionId': '0x69c322e3248a5dfc29d73c5b0553b0185a35cd5bb6386747517ef7e53b15e287',\n",
       " 'title': 'Will more than 2.3 million people travel through a TSA checkpoint on any day on or before September 15?',\n",
       " 'outcomes': [{'title': 'Yes'}, {'title': 'No'}]}"
      ]
     },
     "execution_count": 8,
     "metadata": {},
     "output_type": "execute_result"
    }
   ],
   "source": [
    "question_new"
   ]
  },
  {
   "cell_type": "code",
   "execution_count": 9,
   "id": "166e4398",
   "metadata": {},
   "outputs": [],
   "source": [
    "import json \n",
    "with open(\"../conf/questions.config.json\", \"w\") as outfile:\n",
    "    json.dump(questions, outfile)"
   ]
  },
  {
   "cell_type": "code",
   "execution_count": 10,
   "id": "8666b899",
   "metadata": {},
   "outputs": [],
   "source": [
    "with open(\"../conf/question_new.config.json\", \"w\") as outfile:\n",
    "    json.dump(question_new, outfile)"
   ]
  },
  {
   "cell_type": "code",
   "execution_count": 13,
   "id": "f3d81219",
   "metadata": {},
   "outputs": [
    {
     "data": {
      "text/plain": [
       "'0x5fe7f977e71dba2ea1a68e21057beebb9be2ac30c6410aa38d4f3fbe41dcffd2'"
      ]
     },
     "execution_count": 13,
     "metadata": {},
     "output_type": "execute_result"
    }
   ],
   "source": [
    "questions[1].get('questionId')"
   ]
  },
  {
   "cell_type": "code",
   "execution_count": 14,
   "id": "959052f4",
   "metadata": {},
   "outputs": [],
   "source": [
    "with open(\"../conf/questions.config.json\", \"r\") as f:\n",
    "    questions = json.load(f)"
   ]
  },
  {
   "cell_type": "code",
   "execution_count": 15,
   "id": "2839c2be",
   "metadata": {},
   "outputs": [
    {
     "data": {
      "text/plain": [
       "{'1': {'Index': '1',\n",
       "  'questionId': '0x5fe7f977e71dba2ea1a68e21057beebb9be2ac30c6410aa38d4f3fbe41dcffd2',\n",
       "  'title': 'Will the US have more than 200,000 new daily COVID-19 cases on or before October 1, 2021?',\n",
       "  'outcomes': [{'title': 'Yes'}, {'title': 'No'}]},\n",
       " '2': {'Index': '2',\n",
       "  'questionId': '0xf2ee15ea639b73fa3db9b34a245bdfa015c260c598b211bf05a1ecc4b3e3b4f2',\n",
       "  'title': 'Will Donald Trump be the 2024 Republican presidential nominee?',\n",
       "  'outcomes': [{'title': 'Yes'}, {'title': 'No'}]}}"
      ]
     },
     "execution_count": 15,
     "metadata": {},
     "output_type": "execute_result"
    }
   ],
   "source": [
    "questions"
   ]
  },
  {
   "cell_type": "code",
   "execution_count": null,
   "id": "f078b168",
   "metadata": {},
   "outputs": [],
   "source": []
  }
 ],
 "metadata": {
  "kernelspec": {
   "display_name": "Python 3",
   "language": "python",
   "name": "python3"
  },
  "language_info": {
   "codemirror_mode": {
    "name": "ipython",
    "version": 3
   },
   "file_extension": ".py",
   "mimetype": "text/x-python",
   "name": "python",
   "nbconvert_exporter": "python",
   "pygments_lexer": "ipython3",
   "version": "3.8.10"
  }
 },
 "nbformat": 4,
 "nbformat_minor": 5
}
