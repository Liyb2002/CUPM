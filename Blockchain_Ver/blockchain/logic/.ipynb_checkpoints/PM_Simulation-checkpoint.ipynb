{
 "cells": [
  {
   "cell_type": "code",
   "execution_count": 1,
   "id": "01a21e0b",
   "metadata": {},
   "outputs": [],
   "source": [
    "import json\n",
    "from web3 import Web3\n",
    "from web3.middleware import geth_poa_middleware\n",
    "\n",
    "import os\n",
    "import sys\n",
    "sys.path.insert(0, '/Users/jianqiongzhan/Downloads/git/PredictionMarkets/cu_pm_v.1.2/app/src/blockchain/utils')\n",
    "import Web3Con\n",
    "import SolidityContracts\n",
    "from collections import defaultdict"
   ]
  },
  {
   "cell_type": "code",
   "execution_count": 2,
   "id": "a2548f26",
   "metadata": {},
   "outputs": [],
   "source": [
    "import pprint\n",
    "from dotenv import load_dotenv\n",
    "load_dotenv()\n",
    "infura_key = os.getenv('INFURA_KEY')"
   ]
  },
  {
   "cell_type": "code",
   "execution_count": 3,
   "id": "2e10bf33",
   "metadata": {},
   "outputs": [],
   "source": [
    "# set up web provider, why this won't work?\n",
    "web_provider = 'infura'\n",
    "w3, account_admin, private_key = Web3Con.get_web3(web_provider)\n",
    "# inject the poa compatibility middleware to the innermost layer\n",
    "w3.middleware_onion.clear()\n",
    "w3.middleware_onion.inject(geth_poa_middleware, layer=0)"
   ]
  },
  {
   "cell_type": "code",
   "execution_count": 4,
   "id": "339bf1ad",
   "metadata": {},
   "outputs": [],
   "source": [
    "#### signing\n",
    "#from web3.middleware import construct_sign_and_send_raw_middleware\n",
    "#w3.middleware_onion.add(construct_sign_and_send_raw_middleware(private_key))\n",
    "w3.eth.default_account = account_admin"
   ]
  },
  {
   "cell_type": "code",
   "execution_count": 5,
   "id": "9a213bd9",
   "metadata": {},
   "outputs": [],
   "source": [
    "# get contract\n",
    "csToken_json = '../contracts_data/csTokendata.json'\n",
    "conditionalTokens_json = '../contracts_data/conditionalTokensdata.json'\n",
    "lmsrmm_json = '../contracts_data/lmsrmmdata.json'\n",
    "lmsrmmf_json = '../contracts_data/lmsrmmfdata.json'\n",
    "whitelist_json = '../contracts_data/whitelistdata.json'\n",
    "\n",
    "# csToken = SolidityContracts.get_contract(csToken_json,w3)\n",
    "# ConditionalTokens = SolidityContracts.get_contract(conditionalTokens_json,w3)\n",
    "# lmsrmm = SolidityContracts.get_contract(lmsrmm_json,w3)\n",
    "# lmsrmmf = SolidityContracts.get_contract(lmsrmmf_json,w3)\n",
    "# whitelist_contract = SolidityContracts.get_contract(whitelist_json,w3)"
   ]
  },
  {
   "cell_type": "code",
   "execution_count": 24,
   "id": "6fb2a139",
   "metadata": {},
   "outputs": [],
   "source": [
    "parentCollectionId = '0x0000000000000000000000000000000000000000000000000000000000000000'\n",
    "account2 = '0x998818Cf86d48e6a66A7d3cbdCa895Ee37560D62'\n",
    "account3 = '0x5e971fc6A50CAEEC02FCC108E076a335b478A2E7'\n",
    "\n",
    "account3_key = '91c933a855549abf965f689d31693471e127ad734b93b0dbe28412f1b835f7b3'\n",
    "account2_key ='41981cf11ea41055a221faa62ab12411a27ad2e3f229396b06d956f1fb96f2bc'"
   ]
  },
  {
   "cell_type": "code",
   "execution_count": 7,
   "id": "789eed76",
   "metadata": {},
   "outputs": [],
   "source": [
    "contracts = defaultdict(lambda: \"Not Present\")\n",
    "contracts[\"whitelist_json\"] = whitelist_json\n",
    "contracts[\"csToken_json\"] = csToken_json\n",
    "contracts[\"ConditionalTokens_json\"] = conditionalTokens_json\n",
    "contracts[\"lmsrmm_json\"] = lmsrmm_json\n",
    "contracts[\"lmsrmmf_json\"] = lmsrmmf_json"
   ]
  },
  {
   "cell_type": "code",
   "execution_count": 8,
   "id": "03a9a27a",
   "metadata": {},
   "outputs": [],
   "source": [
    "\"\"\"CreateMarketMaker\"\"\"\n",
    "from collections import defaultdict\n",
    "from whitelistRepo import whitelistRepo\n",
    "from csTokenRepo import csTokenRepo\n",
    "from ConditionalTokensRepo import ConditionalTokensRepo\n",
    "from MarketMakersRepo import MarketMakersRepo\n",
    "from MarketMakersFactoryRepo import MarketMakersFactoryRepo\n",
    "from web3.logs import STRICT, IGNORE, DISCARD, WARN"
   ]
  },
  {
   "cell_type": "code",
   "execution_count": 9,
   "id": "e51e4492",
   "metadata": {},
   "outputs": [],
   "source": [
    "contracts[\"whitelist_contract\"] = whitelist_json\n",
    "contracts[\"csToken_contract\"] = csToken_json\n",
    "contracts[\"ConditionalTokens_contract\"] = conditionalTokens_json\n",
    "contracts[\"lmsrmm_contract\"] = lmsrmm_json\n",
    "contracts[\"lmsrmmf_contract\"] = lmsrmmf_json"
   ]
  },
  {
   "cell_type": "code",
   "execution_count": 10,
   "id": "dba2a87d",
   "metadata": {
    "scrolled": true
   },
   "outputs": [
    {
     "name": "stdout",
     "output_type": "stream",
     "text": [
      "Getting Contract Instance!\n",
      "Getting Contract Instance!\n",
      "Getting Contract Instance!\n",
      "Getting Contract Instance!\n",
      "Getting Contract Instance!\n"
     ]
    }
   ],
   "source": [
    "contracts[\"whitelist_contract\"] =  SolidityContracts.get_contract(contracts[\"whitelist_json\"], w3)\n",
    "contracts[\"csToken_contract\"] = SolidityContracts.get_contract(contracts[\"csToken_json\"], w3)\n",
    "contracts[\"ConditionalTokens_contract\"] = SolidityContracts.get_contract(contracts[\"ConditionalTokens_json\"], w3)\n",
    "contracts[\"lmsrmm_contract\"] = SolidityContracts.get_contract(contracts[\"lmsrmm_json\"], w3)\n",
    "contracts[\"lmsrmmf_contract\"] = SolidityContracts.get_contract(contracts[\"lmsrmmf_json\"], w3)\n",
    "# python smart contract functions\n",
    "contracts[\"whitelist_py\"] =  whitelistRepo(w3, contracts[\"whitelist_contract\"])\n",
    "contracts[\"csToken_py\"]  = csTokenRepo(w3, contracts[\"csToken_contract\"])\n",
    "contracts[\"ConditionalTokens_py\"]  = ConditionalTokensRepo(w3, contracts[\"ConditionalTokens_contract\"])\n",
    "contracts[\"lmsrmm_py\"] = MarketMakersRepo(w3, contracts[\"lmsrmm_contract\"])\n",
    "contracts[\"lmsrmmf_py\"] = MarketMakersFactoryRepo(w3, contracts[\"lmsrmmf_contract\"])"
   ]
  },
  {
   "cell_type": "code",
   "execution_count": 11,
   "id": "c3f5bdb6",
   "metadata": {},
   "outputs": [],
   "source": [
    "fee = 0\n",
    "ammFunding = 100\n",
    "slotNumber = 2\n",
    "questionId = w3.keccak(1)\n",
    "participants_list = [account_admin, account2, account3]"
   ]
  },
  {
   "cell_type": "code",
   "execution_count": 12,
   "id": "e6efe71b",
   "metadata": {},
   "outputs": [],
   "source": [
    "marketConf = defaultdict(lambda: \"Not Present\")\n",
    "marketConf['slotNumber'] = slotNumber\n",
    "marketConf['fee'] = fee\n",
    "marketConf['ammFunding'] = ammFunding\n",
    "marketConf['questionId'] = questionId\n",
    "marketConf['participants'] = participants_list"
   ]
  },
  {
   "cell_type": "code",
   "execution_count": 13,
   "id": "e1f2e56b",
   "metadata": {
    "scrolled": true
   },
   "outputs": [],
   "source": [
    "#tx = contracts[\"whitelist_py\"].addToWhitelist(marketConf['participants'], account_admin, private_key, 1000000)"
   ]
  },
  {
   "cell_type": "code",
   "execution_count": 14,
   "id": "ff1459ad",
   "metadata": {},
   "outputs": [],
   "source": [
    "from CreateMarketMaker import CreateMarketMaker"
   ]
  },
  {
   "cell_type": "code",
   "execution_count": 15,
   "id": "6c5b6bb0",
   "metadata": {},
   "outputs": [],
   "source": [
    "CMM = CreateMarketMaker(w3, contracts)"
   ]
  },
  {
   "cell_type": "code",
   "execution_count": 16,
   "id": "e1050987",
   "metadata": {},
   "outputs": [
    {
     "name": "stdout",
     "output_type": "stream",
     "text": [
      "Here is the tx hash: 0x41a8e6405ed5a656f026faec1228796271f358baf909ec5dce9674e3108ba09e\n",
      "\n",
      "Was transaction successful?\n",
      "1\n",
      "Here is the tx hash: 0x698457d3ff8506afe7ecc92ae9b298e39df913d029a80960197099f80fdb421c\n",
      "\n",
      "Was transaction successful?\n",
      "1\n"
     ]
    },
    {
     "name": "stderr",
     "output_type": "stream",
     "text": [
      "/Users/jianqiongzhan/opt/anaconda3/envs/py38/lib/python3.8/site-packages/web3/contract.py:1166: UserWarning: The log with transaction hash: HexBytes('0x698457d3ff8506afe7ecc92ae9b298e39df913d029a80960197099f80fdb421c') and logIndex: 35 encountered the following error during processing: MismatchedABI(The event signature did not match the provided ABI). It has been discarded.\n",
      "  warnings.warn(\n",
      "/Users/jianqiongzhan/opt/anaconda3/envs/py38/lib/python3.8/site-packages/web3/contract.py:1166: UserWarning: The log with transaction hash: HexBytes('0x698457d3ff8506afe7ecc92ae9b298e39df913d029a80960197099f80fdb421c') and logIndex: 36 encountered the following error during processing: MismatchedABI(The event signature did not match the provided ABI). It has been discarded.\n",
      "  warnings.warn(\n",
      "/Users/jianqiongzhan/opt/anaconda3/envs/py38/lib/python3.8/site-packages/web3/contract.py:1166: UserWarning: The log with transaction hash: HexBytes('0x698457d3ff8506afe7ecc92ae9b298e39df913d029a80960197099f80fdb421c') and logIndex: 37 encountered the following error during processing: MismatchedABI(The event signature did not match the provided ABI). It has been discarded.\n",
      "  warnings.warn(\n",
      "/Users/jianqiongzhan/opt/anaconda3/envs/py38/lib/python3.8/site-packages/web3/contract.py:1166: UserWarning: The log with transaction hash: HexBytes('0x698457d3ff8506afe7ecc92ae9b298e39df913d029a80960197099f80fdb421c') and logIndex: 38 encountered the following error during processing: MismatchedABI(The event signature did not match the provided ABI). It has been discarded.\n",
      "  warnings.warn(\n",
      "/Users/jianqiongzhan/opt/anaconda3/envs/py38/lib/python3.8/site-packages/web3/contract.py:1166: UserWarning: The log with transaction hash: HexBytes('0x698457d3ff8506afe7ecc92ae9b298e39df913d029a80960197099f80fdb421c') and logIndex: 39 encountered the following error during processing: MismatchedABI(The event signature did not match the provided ABI). It has been discarded.\n",
      "  warnings.warn(\n",
      "/Users/jianqiongzhan/opt/anaconda3/envs/py38/lib/python3.8/site-packages/web3/contract.py:1166: UserWarning: The log with transaction hash: HexBytes('0x698457d3ff8506afe7ecc92ae9b298e39df913d029a80960197099f80fdb421c') and logIndex: 40 encountered the following error during processing: MismatchedABI(The event signature did not match the provided ABI). It has been discarded.\n",
      "  warnings.warn(\n",
      "/Users/jianqiongzhan/opt/anaconda3/envs/py38/lib/python3.8/site-packages/web3/contract.py:1166: UserWarning: The log with transaction hash: HexBytes('0x698457d3ff8506afe7ecc92ae9b298e39df913d029a80960197099f80fdb421c') and logIndex: 41 encountered the following error during processing: MismatchedABI(The event signature did not match the provided ABI). It has been discarded.\n",
      "  warnings.warn(\n",
      "/Users/jianqiongzhan/opt/anaconda3/envs/py38/lib/python3.8/site-packages/web3/contract.py:1166: UserWarning: The log with transaction hash: HexBytes('0x698457d3ff8506afe7ecc92ae9b298e39df913d029a80960197099f80fdb421c') and logIndex: 42 encountered the following error during processing: MismatchedABI(The event signature did not match the provided ABI). It has been discarded.\n",
      "  warnings.warn(\n",
      "/Users/jianqiongzhan/opt/anaconda3/envs/py38/lib/python3.8/site-packages/web3/contract.py:1166: UserWarning: The log with transaction hash: HexBytes('0x698457d3ff8506afe7ecc92ae9b298e39df913d029a80960197099f80fdb421c') and logIndex: 43 encountered the following error during processing: MismatchedABI(The event signature did not match the provided ABI). It has been discarded.\n",
      "  warnings.warn(\n",
      "/Users/jianqiongzhan/opt/anaconda3/envs/py38/lib/python3.8/site-packages/web3/contract.py:1166: UserWarning: The log with transaction hash: HexBytes('0x698457d3ff8506afe7ecc92ae9b298e39df913d029a80960197099f80fdb421c') and logIndex: 44 encountered the following error during processing: MismatchedABI(The event signature did not match the provided ABI). It has been discarded.\n",
      "  warnings.warn(\n",
      "/Users/jianqiongzhan/opt/anaconda3/envs/py38/lib/python3.8/site-packages/web3/contract.py:1166: UserWarning: The log with transaction hash: HexBytes('0x698457d3ff8506afe7ecc92ae9b298e39df913d029a80960197099f80fdb421c') and logIndex: 45 encountered the following error during processing: MismatchedABI(The event signature did not match the provided ABI). It has been discarded.\n",
      "  warnings.warn(\n",
      "/Users/jianqiongzhan/opt/anaconda3/envs/py38/lib/python3.8/site-packages/web3/contract.py:1166: UserWarning: The log with transaction hash: HexBytes('0x698457d3ff8506afe7ecc92ae9b298e39df913d029a80960197099f80fdb421c') and logIndex: 46 encountered the following error during processing: MismatchedABI(The event signature did not match the provided ABI). It has been discarded.\n",
      "  warnings.warn(\n",
      "/Users/jianqiongzhan/opt/anaconda3/envs/py38/lib/python3.8/site-packages/web3/contract.py:1166: UserWarning: The log with transaction hash: HexBytes('0x698457d3ff8506afe7ecc92ae9b298e39df913d029a80960197099f80fdb421c') and logIndex: 47 encountered the following error during processing: MismatchedABI(The event signature did not match the provided ABI). It has been discarded.\n",
      "  warnings.warn(\n",
      "/Users/jianqiongzhan/opt/anaconda3/envs/py38/lib/python3.8/site-packages/web3/contract.py:1166: UserWarning: The log with transaction hash: HexBytes('0x698457d3ff8506afe7ecc92ae9b298e39df913d029a80960197099f80fdb421c') and logIndex: 48 encountered the following error during processing: MismatchedABI(The event signature did not match the provided ABI). It has been discarded.\n",
      "  warnings.warn(\n",
      "/Users/jianqiongzhan/opt/anaconda3/envs/py38/lib/python3.8/site-packages/web3/contract.py:1166: UserWarning: The log with transaction hash: HexBytes('0x698457d3ff8506afe7ecc92ae9b298e39df913d029a80960197099f80fdb421c') and logIndex: 49 encountered the following error during processing: MismatchedABI(The event signature did not match the provided ABI). It has been discarded.\n",
      "  warnings.warn(\n"
     ]
    }
   ],
   "source": [
    "lmsrAddress = CMM.createMM(marketConf, account_admin, private_key, 1000000)"
   ]
  },
  {
   "cell_type": "code",
   "execution_count": 17,
   "id": "d2b076d8",
   "metadata": {},
   "outputs": [
    {
     "data": {
      "text/plain": [
       "'0xda057Fb909d3841b6B1A123685BFbED4A11D1a09'"
      ]
     },
     "execution_count": 17,
     "metadata": {},
     "output_type": "execute_result"
    }
   ],
   "source": [
    "lmsrAddress"
   ]
  },
  {
   "cell_type": "code",
   "execution_count": 22,
   "id": "9779a64a",
   "metadata": {},
   "outputs": [],
   "source": [
    "with open(lmsrmm_json, 'r') as f:\n",
    "        datastore = json.load(f)\n",
    "        abi = datastore[\"abi\"]\n",
    "        contract_address = lmsrAddress\n",
    "        lmsrMarketMaker = w3.eth.contract(address=contract_address,abi=abi)\n",
    "        lmsrMarketMaker_py = MarketMakersRepo(w3, lmsrMarketMaker)"
   ]
  },
  {
   "cell_type": "code",
   "execution_count": 50,
   "id": "981a264c",
   "metadata": {},
   "outputs": [],
   "source": [
    "#lmsrMarketMaker_py.resume(account_admin, private_key, 1000000)"
   ]
  },
  {
   "cell_type": "code",
   "execution_count": 20,
   "id": "9b385c3b",
   "metadata": {},
   "outputs": [
    {
     "data": {
      "text/plain": [
       "b'\\x13c\\xe2\\xd5\\xb6[\\x86\\xc8\\x8d\\x14\\x9d\\xe6\\xd2\\x05u\\xdaC0\\t\\x110IU\\xe7h\\t\\x9at\\x85XC\\xf9'"
      ]
     },
     "execution_count": 20,
     "metadata": {},
     "output_type": "execute_result"
    }
   ],
   "source": [
    "conditionId = contracts[\"ConditionalTokens_py\"].getConditionId(account_admin, marketConf['questionId'], marketConf['slotNumber'])\n",
    "conditionId"
   ]
  },
  {
   "cell_type": "code",
   "execution_count": 21,
   "id": "b735e842",
   "metadata": {},
   "outputs": [
    {
     "data": {
      "text/plain": [
       "1"
      ]
     },
     "execution_count": 21,
     "metadata": {},
     "output_type": "execute_result"
    }
   ],
   "source": [
    "payoutDenominator = contracts[\"ConditionalTokens_py\"].payoutDenominator(conditionId)\n",
    "payoutDenominator"
   ]
  },
  {
   "cell_type": "code",
   "execution_count": 26,
   "id": "3eab0fab",
   "metadata": {},
   "outputs": [],
   "source": [
    "#1a.getConditionId\n",
    "#conditionId = ConditionalTokens.functions.getConditionId(account_admin, questionId, 2).call()\n",
    "#print(conditionId)\n",
    "conditionId = lmsrMarketMaker_py.conditionIds(0)\n",
    "#2getCollectionId(parentCollectionId, conditionId, indexSet)\n",
    "collectionIdLo = contracts[\"ConditionalTokens_py\"].getCollectionId(parentCollectionId, conditionId, 1)\n",
    "collectionIdHi = contracts[\"ConditionalTokens_py\"].getCollectionId(parentCollectionId, conditionId, 2)\n",
    "#3getPositionId(collateralToken, collectionId)\n",
    "positionIdLo = contracts[\"ConditionalTokens_py\"].getPositionId(contracts[\"csToken_py\"].getAddress(),collectionIdLo)\n",
    "positionIdHi = contracts[\"ConditionalTokens_py\"].getPositionId(contracts[\"csToken_py\"].getAddress(),collectionIdHi)"
   ]
  },
  {
   "cell_type": "code",
   "execution_count": 37,
   "id": "c444cfe1",
   "metadata": {},
   "outputs": [
    {
     "name": "stdout",
     "output_type": "stream",
     "text": [
      "10\n",
      "cost: 6\n",
      "10\n",
      "Here is the tx hash: 0xa43d6677312e27ca5424bf20331e4d295c9337dc31b62d35f643956e09337aae\n",
      "\n",
      "Was transaction successful?\n",
      "1\n"
     ]
    }
   ],
   "source": [
    "# start trade\n",
    "#0 check allowance\n",
    "print(contracts[\"csToken_py\"].allowance(account2, lmsrMarketMaker.address))\n",
    "outcomeTokenAmounts = [0,10]\n",
    "#1calculate cost\n",
    "cost = lmsrMarketMaker_py.calcNetCost(outcomeTokenAmounts)\n",
    "print(f'cost: {cost}')\n",
    "print(contracts[\"csToken_py\"].allowance(account2, lmsrAddress))\n",
    "\n",
    "#2approve to get allowance: transaction successful\n",
    "transaction = contracts[\"csToken_py\"].approve(lmsrMarketMaker.address,outcomeTokenAmounts[1],account2, account2_key, 1000000)"
   ]
  },
  {
   "cell_type": "code",
   "execution_count": 34,
   "id": "04bae906",
   "metadata": {},
   "outputs": [
    {
     "name": "stdout",
     "output_type": "stream",
     "text": [
      "10\n"
     ]
    }
   ],
   "source": [
    "#3allowance: increases to 10\n",
    "print(contracts[\"csToken_py\"].allowance(account2, lmsrMarketMaker.address))\n",
    "#4buy"
   ]
  },
  {
   "cell_type": "code",
   "execution_count": 41,
   "id": "3b940af2",
   "metadata": {},
   "outputs": [
    {
     "name": "stdout",
     "output_type": "stream",
     "text": [
      "Here is the tx hash: 0xb343d2dfbac964e123538ea7a8b1700a179553308e3ebbf1d33c00c3c6677536\n",
      "\n",
      "Was transaction successful?\n",
      "1\n"
     ]
    }
   ],
   "source": [
    "try:\n",
    "    tx2 = lmsrMarketMaker_py.trade(outcomeTokenAmounts, cost, account2, account2_key, 1000000)\n",
    "except:\n",
    "    print('transfer amount exceeds balance, transfer money from account_admin')\n",
    "    contracts[\"csToken_py\"].transfer(account2,100, account_admin, private_key, 1000000)\n",
    "    tx2 = lmsrMarketMaker_py.trade(outcomeTokenAmounts, cost, account2, account2_key, 1000000)"
   ]
  },
  {
   "cell_type": "code",
   "execution_count": 42,
   "id": "b1320243",
   "metadata": {},
   "outputs": [
    {
     "name": "stdout",
     "output_type": "stream",
     "text": [
      "4\n"
     ]
    }
   ],
   "source": [
    "print(contracts[\"csToken_py\"].allowance(account2, lmsrMarketMaker.address))"
   ]
  },
  {
   "cell_type": "code",
   "execution_count": 43,
   "id": "ee5ddfc0",
   "metadata": {
    "scrolled": true
   },
   "outputs": [
    {
     "data": {
      "text/plain": [
       "94"
      ]
     },
     "execution_count": 43,
     "metadata": {},
     "output_type": "execute_result"
    }
   ],
   "source": [
    "contracts[\"csToken_py\"].balanceOf(account2)"
   ]
  },
  {
   "cell_type": "code",
   "execution_count": 45,
   "id": "af8f102e",
   "metadata": {},
   "outputs": [
    {
     "data": {
      "text/plain": [
       "HexBytes('0x5fe7f977e71dba2ea1a68e21057beebb9be2ac30c6410aa38d4f3fbe41dcffd2')"
      ]
     },
     "execution_count": 45,
     "metadata": {},
     "output_type": "execute_result"
    }
   ],
   "source": [
    "marketConf['questionId']"
   ]
  },
  {
   "cell_type": "code",
   "execution_count": null,
   "id": "e928f123",
   "metadata": {},
   "outputs": [],
   "source": [
    "## 4 Resolving the market: reportPayouts\n",
    "#0 closing the market\n",
    "tx = lmsrMarketMaker_py.close(account_admin, private_key, 1000000)"
   ]
  },
  {
   "cell_type": "code",
   "execution_count": 47,
   "id": "a5de217f",
   "metadata": {},
   "outputs": [
    {
     "ename": "ContractLogicError",
     "evalue": "execution reverted: payout denominator already set",
     "output_type": "error",
     "traceback": [
      "\u001b[0;31m---------------------------------------------------------------------------\u001b[0m",
      "\u001b[0;31mContractLogicError\u001b[0m                        Traceback (most recent call last)",
      "\u001b[0;32m<ipython-input-47-2498d17f6fb6>\u001b[0m in \u001b[0;36m<module>\u001b[0;34m\u001b[0m\n\u001b[1;32m      1\u001b[0m \u001b[0;31m#1* reporting reportPayouts (questionId, payouts[])\u001b[0m\u001b[0;34m\u001b[0m\u001b[0;34m\u001b[0m\u001b[0;34m\u001b[0m\u001b[0m\n\u001b[1;32m      2\u001b[0m \u001b[0mpayouts\u001b[0m \u001b[0;34m=\u001b[0m \u001b[0;34m[\u001b[0m\u001b[0;36m1\u001b[0m\u001b[0;34m,\u001b[0m\u001b[0;36m0\u001b[0m\u001b[0;34m]\u001b[0m\u001b[0;34m\u001b[0m\u001b[0;34m\u001b[0m\u001b[0m\n\u001b[0;32m----> 3\u001b[0;31m \u001b[0mtx\u001b[0m \u001b[0;34m=\u001b[0m \u001b[0mcontracts\u001b[0m\u001b[0;34m[\u001b[0m\u001b[0;34m\"ConditionalTokens_py\"\u001b[0m\u001b[0;34m]\u001b[0m\u001b[0;34m.\u001b[0m\u001b[0mreportPayouts\u001b[0m\u001b[0;34m(\u001b[0m\u001b[0mmarketConf\u001b[0m\u001b[0;34m[\u001b[0m\u001b[0;34m'questionId'\u001b[0m\u001b[0;34m]\u001b[0m\u001b[0;34m,\u001b[0m \u001b[0mpayouts\u001b[0m\u001b[0;34m,\u001b[0m \u001b[0maccount_admin\u001b[0m\u001b[0;34m,\u001b[0m \u001b[0mprivate_key\u001b[0m\u001b[0;34m,\u001b[0m \u001b[0;36m1000000\u001b[0m\u001b[0;34m)\u001b[0m\u001b[0;34m\u001b[0m\u001b[0;34m\u001b[0m\u001b[0m\n\u001b[0m",
      "\u001b[0;32m~/Downloads/git/PredictionMarkets/cu_pm_v.1.2/app/src/blockchain/logic/ConditionalTokensRepo.py\u001b[0m in \u001b[0;36mreportPayouts\u001b[0;34m(self, questionId, payouts, account_admin, account_admin_key, sappropriate_gas_amount)\u001b[0m\n\u001b[1;32m     44\u001b[0m     \u001b[0;32mdef\u001b[0m \u001b[0mreportPayouts\u001b[0m\u001b[0;34m(\u001b[0m\u001b[0mself\u001b[0m\u001b[0;34m,\u001b[0m \u001b[0mquestionId\u001b[0m\u001b[0;34m,\u001b[0m \u001b[0mpayouts\u001b[0m\u001b[0;34m,\u001b[0m\u001b[0maccount_admin\u001b[0m\u001b[0;34m,\u001b[0m \u001b[0maccount_admin_key\u001b[0m\u001b[0;34m,\u001b[0m \u001b[0msappropriate_gas_amount\u001b[0m\u001b[0;34m)\u001b[0m\u001b[0;34m:\u001b[0m\u001b[0;34m\u001b[0m\u001b[0;34m\u001b[0m\u001b[0m\n\u001b[1;32m     45\u001b[0m         \u001b[0;34m\"\"\"\"\"\"\u001b[0m\u001b[0;34m\u001b[0m\u001b[0;34m\u001b[0m\u001b[0m\n\u001b[0;32m---> 46\u001b[0;31m         \u001b[0mtx\u001b[0m \u001b[0;34m=\u001b[0m \u001b[0mself\u001b[0m\u001b[0;34m.\u001b[0m\u001b[0mconditionalTokens\u001b[0m\u001b[0;34m.\u001b[0m\u001b[0mfunctions\u001b[0m\u001b[0;34m.\u001b[0m\u001b[0mreportPayouts\u001b[0m\u001b[0;34m(\u001b[0m\u001b[0mquestionId\u001b[0m\u001b[0;34m,\u001b[0m \u001b[0mpayouts\u001b[0m\u001b[0;34m)\u001b[0m\u001b[0;34m.\u001b[0m\u001b[0mbuildTransaction\u001b[0m\u001b[0;34m(\u001b[0m\u001b[0;34m)\u001b[0m\u001b[0;34m\u001b[0m\u001b[0;34m\u001b[0m\u001b[0m\n\u001b[0m\u001b[1;32m     47\u001b[0m         \u001b[0mtx_receipt\u001b[0m \u001b[0;34m=\u001b[0m \u001b[0mtransaction2receipt\u001b[0m\u001b[0;34m(\u001b[0m\u001b[0mself\u001b[0m\u001b[0;34m.\u001b[0m\u001b[0mw3\u001b[0m\u001b[0;34m,\u001b[0m \u001b[0mtx\u001b[0m\u001b[0;34m,\u001b[0m \u001b[0maccount_admin\u001b[0m\u001b[0;34m,\u001b[0m \u001b[0maccount_admin_key\u001b[0m\u001b[0;34m,\u001b[0m \u001b[0msappropriate_gas_amount\u001b[0m\u001b[0;34m)\u001b[0m\u001b[0;34m\u001b[0m\u001b[0;34m\u001b[0m\u001b[0m\n\u001b[1;32m     48\u001b[0m         \u001b[0;32mreturn\u001b[0m \u001b[0mtx_receipt\u001b[0m\u001b[0;34m[\u001b[0m\u001b[0;34m'contractAddress'\u001b[0m\u001b[0;34m]\u001b[0m\u001b[0;34m\u001b[0m\u001b[0;34m\u001b[0m\u001b[0m\n",
      "\u001b[0;32m~/opt/anaconda3/envs/py38/lib/python3.8/site-packages/web3/contract.py\u001b[0m in \u001b[0;36mbuildTransaction\u001b[0;34m(self, transaction)\u001b[0m\n\u001b[1;32m   1077\u001b[0m             )\n\u001b[1;32m   1078\u001b[0m \u001b[0;34m\u001b[0m\u001b[0m\n\u001b[0;32m-> 1079\u001b[0;31m         return build_transaction_for_function(\n\u001b[0m\u001b[1;32m   1080\u001b[0m             \u001b[0mself\u001b[0m\u001b[0;34m.\u001b[0m\u001b[0maddress\u001b[0m\u001b[0;34m,\u001b[0m\u001b[0;34m\u001b[0m\u001b[0;34m\u001b[0m\u001b[0m\n\u001b[1;32m   1081\u001b[0m             \u001b[0mself\u001b[0m\u001b[0;34m.\u001b[0m\u001b[0mweb3\u001b[0m\u001b[0;34m,\u001b[0m\u001b[0;34m\u001b[0m\u001b[0;34m\u001b[0m\u001b[0m\n",
      "\u001b[0;32m~/opt/anaconda3/envs/py38/lib/python3.8/site-packages/web3/contract.py\u001b[0m in \u001b[0;36mbuild_transaction_for_function\u001b[0;34m(address, web3, function_name, transaction, contract_abi, fn_abi, *args, **kwargs)\u001b[0m\n\u001b[1;32m   1646\u001b[0m     )\n\u001b[1;32m   1647\u001b[0m \u001b[0;34m\u001b[0m\u001b[0m\n\u001b[0;32m-> 1648\u001b[0;31m     \u001b[0mprepared_transaction\u001b[0m \u001b[0;34m=\u001b[0m \u001b[0mfill_transaction_defaults\u001b[0m\u001b[0;34m(\u001b[0m\u001b[0mweb3\u001b[0m\u001b[0;34m,\u001b[0m \u001b[0mprepared_transaction\u001b[0m\u001b[0;34m)\u001b[0m\u001b[0;34m\u001b[0m\u001b[0;34m\u001b[0m\u001b[0m\n\u001b[0m\u001b[1;32m   1649\u001b[0m \u001b[0;34m\u001b[0m\u001b[0m\n\u001b[1;32m   1650\u001b[0m     \u001b[0;32mreturn\u001b[0m \u001b[0mprepared_transaction\u001b[0m\u001b[0;34m\u001b[0m\u001b[0;34m\u001b[0m\u001b[0m\n",
      "\u001b[0;32m~/opt/anaconda3/envs/py38/lib/python3.8/site-packages/cytoolz/functoolz.pyx\u001b[0m in \u001b[0;36mcytoolz.functoolz.curry.__call__\u001b[0;34m()\u001b[0m\n",
      "\u001b[0;32m~/opt/anaconda3/envs/py38/lib/python3.8/site-packages/web3/_utils/transactions.py\u001b[0m in \u001b[0;36mfill_transaction_defaults\u001b[0;34m(web3, transaction)\u001b[0m\n\u001b[1;32m     94\u001b[0m             \u001b[0;32mif\u001b[0m \u001b[0mcallable\u001b[0m\u001b[0;34m(\u001b[0m\u001b[0mdefault_getter\u001b[0m\u001b[0;34m)\u001b[0m\u001b[0;34m:\u001b[0m\u001b[0;34m\u001b[0m\u001b[0;34m\u001b[0m\u001b[0m\n\u001b[1;32m     95\u001b[0m                 \u001b[0;32mif\u001b[0m \u001b[0mweb3\u001b[0m \u001b[0;32mis\u001b[0m \u001b[0;32mnot\u001b[0m \u001b[0;32mNone\u001b[0m\u001b[0;34m:\u001b[0m\u001b[0;34m\u001b[0m\u001b[0;34m\u001b[0m\u001b[0m\n\u001b[0;32m---> 96\u001b[0;31m                     \u001b[0mdefault_val\u001b[0m \u001b[0;34m=\u001b[0m \u001b[0mdefault_getter\u001b[0m\u001b[0;34m(\u001b[0m\u001b[0mweb3\u001b[0m\u001b[0;34m,\u001b[0m \u001b[0mtransaction\u001b[0m\u001b[0;34m)\u001b[0m\u001b[0;34m\u001b[0m\u001b[0;34m\u001b[0m\u001b[0m\n\u001b[0m\u001b[1;32m     97\u001b[0m                 \u001b[0;32melse\u001b[0m\u001b[0;34m:\u001b[0m\u001b[0;34m\u001b[0m\u001b[0;34m\u001b[0m\u001b[0m\n\u001b[1;32m     98\u001b[0m                     \u001b[0;32mraise\u001b[0m \u001b[0mValueError\u001b[0m\u001b[0;34m(\u001b[0m\u001b[0;34m\"You must specify %s in the transaction\"\u001b[0m \u001b[0;34m%\u001b[0m \u001b[0mkey\u001b[0m\u001b[0;34m)\u001b[0m\u001b[0;34m\u001b[0m\u001b[0;34m\u001b[0m\u001b[0m\n",
      "\u001b[0;32m~/opt/anaconda3/envs/py38/lib/python3.8/site-packages/web3/_utils/transactions.py\u001b[0m in \u001b[0;36m<lambda>\u001b[0;34m(web3, tx)\u001b[0m\n\u001b[1;32m     57\u001b[0m     \u001b[0;34m'value'\u001b[0m\u001b[0;34m:\u001b[0m \u001b[0;36m0\u001b[0m\u001b[0;34m,\u001b[0m\u001b[0;34m\u001b[0m\u001b[0;34m\u001b[0m\u001b[0m\n\u001b[1;32m     58\u001b[0m     \u001b[0;34m'data'\u001b[0m\u001b[0;34m:\u001b[0m \u001b[0;34mb''\u001b[0m\u001b[0;34m,\u001b[0m\u001b[0;34m\u001b[0m\u001b[0;34m\u001b[0m\u001b[0m\n\u001b[0;32m---> 59\u001b[0;31m     \u001b[0;34m'gas'\u001b[0m\u001b[0;34m:\u001b[0m \u001b[0;32mlambda\u001b[0m \u001b[0mweb3\u001b[0m\u001b[0;34m,\u001b[0m \u001b[0mtx\u001b[0m\u001b[0;34m:\u001b[0m \u001b[0mweb3\u001b[0m\u001b[0;34m.\u001b[0m\u001b[0meth\u001b[0m\u001b[0;34m.\u001b[0m\u001b[0mestimate_gas\u001b[0m\u001b[0;34m(\u001b[0m\u001b[0mtx\u001b[0m\u001b[0;34m)\u001b[0m\u001b[0;34m,\u001b[0m\u001b[0;34m\u001b[0m\u001b[0;34m\u001b[0m\u001b[0m\n\u001b[0m\u001b[1;32m     60\u001b[0m     \u001b[0;34m'gasPrice'\u001b[0m\u001b[0;34m:\u001b[0m \u001b[0;32mlambda\u001b[0m \u001b[0mweb3\u001b[0m\u001b[0;34m,\u001b[0m \u001b[0mtx\u001b[0m\u001b[0;34m:\u001b[0m \u001b[0mweb3\u001b[0m\u001b[0;34m.\u001b[0m\u001b[0meth\u001b[0m\u001b[0;34m.\u001b[0m\u001b[0mgenerate_gas_price\u001b[0m\u001b[0;34m(\u001b[0m\u001b[0mtx\u001b[0m\u001b[0;34m)\u001b[0m \u001b[0;32mor\u001b[0m \u001b[0mweb3\u001b[0m\u001b[0;34m.\u001b[0m\u001b[0meth\u001b[0m\u001b[0;34m.\u001b[0m\u001b[0mgas_price\u001b[0m\u001b[0;34m,\u001b[0m\u001b[0;34m\u001b[0m\u001b[0;34m\u001b[0m\u001b[0m\n\u001b[1;32m     61\u001b[0m     \u001b[0;34m'chainId'\u001b[0m\u001b[0;34m:\u001b[0m \u001b[0;32mlambda\u001b[0m \u001b[0mweb3\u001b[0m\u001b[0;34m,\u001b[0m \u001b[0mtx\u001b[0m\u001b[0;34m:\u001b[0m \u001b[0mweb3\u001b[0m\u001b[0;34m.\u001b[0m\u001b[0meth\u001b[0m\u001b[0;34m.\u001b[0m\u001b[0mchain_id\u001b[0m\u001b[0;34m,\u001b[0m\u001b[0;34m\u001b[0m\u001b[0;34m\u001b[0m\u001b[0m\n",
      "\u001b[0;32m~/opt/anaconda3/envs/py38/lib/python3.8/site-packages/web3/eth.py\u001b[0m in \u001b[0;36mestimate_gas\u001b[0;34m(self, transaction, block_identifier)\u001b[0m\n\u001b[1;32m    697\u001b[0m         \u001b[0mblock_identifier\u001b[0m\u001b[0;34m:\u001b[0m \u001b[0mOptional\u001b[0m\u001b[0;34m[\u001b[0m\u001b[0mBlockIdentifier\u001b[0m\u001b[0;34m]\u001b[0m \u001b[0;34m=\u001b[0m \u001b[0;32mNone\u001b[0m\u001b[0;34m\u001b[0m\u001b[0;34m\u001b[0m\u001b[0m\n\u001b[1;32m    698\u001b[0m     ) -> Wei:\n\u001b[0;32m--> 699\u001b[0;31m         \u001b[0;32mreturn\u001b[0m \u001b[0mself\u001b[0m\u001b[0;34m.\u001b[0m\u001b[0m_estimate_gas\u001b[0m\u001b[0;34m(\u001b[0m\u001b[0mtransaction\u001b[0m\u001b[0;34m,\u001b[0m \u001b[0mblock_identifier\u001b[0m\u001b[0;34m)\u001b[0m\u001b[0;34m\u001b[0m\u001b[0;34m\u001b[0m\u001b[0m\n\u001b[0m\u001b[1;32m    700\u001b[0m \u001b[0;34m\u001b[0m\u001b[0m\n\u001b[1;32m    701\u001b[0m     def filter_munger(\n",
      "\u001b[0;32m~/opt/anaconda3/envs/py38/lib/python3.8/site-packages/web3/module.py\u001b[0m in \u001b[0;36mcaller\u001b[0;34m(*args, **kwargs)\u001b[0m\n\u001b[1;32m     55\u001b[0m             \u001b[0;32mreturn\u001b[0m \u001b[0mLogFilter\u001b[0m\u001b[0;34m(\u001b[0m\u001b[0meth_module\u001b[0m\u001b[0;34m=\u001b[0m\u001b[0mmodule\u001b[0m\u001b[0;34m,\u001b[0m \u001b[0mfilter_id\u001b[0m\u001b[0;34m=\u001b[0m\u001b[0merr\u001b[0m\u001b[0;34m.\u001b[0m\u001b[0mfilter_id\u001b[0m\u001b[0;34m)\u001b[0m\u001b[0;34m\u001b[0m\u001b[0;34m\u001b[0m\u001b[0m\n\u001b[1;32m     56\u001b[0m         \u001b[0mresult_formatters\u001b[0m\u001b[0;34m,\u001b[0m \u001b[0merror_formatters\u001b[0m\u001b[0;34m,\u001b[0m \u001b[0mnull_result_formatters\u001b[0m \u001b[0;34m=\u001b[0m \u001b[0mresponse_formatters\u001b[0m\u001b[0;34m\u001b[0m\u001b[0;34m\u001b[0m\u001b[0m\n\u001b[0;32m---> 57\u001b[0;31m         result = w3.manager.request_blocking(method_str,\n\u001b[0m\u001b[1;32m     58\u001b[0m                                              \u001b[0mparams\u001b[0m\u001b[0;34m,\u001b[0m\u001b[0;34m\u001b[0m\u001b[0;34m\u001b[0m\u001b[0m\n\u001b[1;32m     59\u001b[0m                                              \u001b[0merror_formatters\u001b[0m\u001b[0;34m,\u001b[0m\u001b[0;34m\u001b[0m\u001b[0;34m\u001b[0m\u001b[0m\n",
      "\u001b[0;32m~/opt/anaconda3/envs/py38/lib/python3.8/site-packages/web3/manager.py\u001b[0m in \u001b[0;36mrequest_blocking\u001b[0;34m(self, method, params, error_formatters, null_result_formatters)\u001b[0m\n\u001b[1;32m    185\u001b[0m         \"\"\"\n\u001b[1;32m    186\u001b[0m         \u001b[0mresponse\u001b[0m \u001b[0;34m=\u001b[0m \u001b[0mself\u001b[0m\u001b[0;34m.\u001b[0m\u001b[0m_make_request\u001b[0m\u001b[0;34m(\u001b[0m\u001b[0mmethod\u001b[0m\u001b[0;34m,\u001b[0m \u001b[0mparams\u001b[0m\u001b[0;34m)\u001b[0m\u001b[0;34m\u001b[0m\u001b[0;34m\u001b[0m\u001b[0m\n\u001b[0;32m--> 187\u001b[0;31m         return self.formatted_response(response,\n\u001b[0m\u001b[1;32m    188\u001b[0m                                        \u001b[0mparams\u001b[0m\u001b[0;34m,\u001b[0m\u001b[0;34m\u001b[0m\u001b[0;34m\u001b[0m\u001b[0m\n\u001b[1;32m    189\u001b[0m                                        \u001b[0merror_formatters\u001b[0m\u001b[0;34m,\u001b[0m\u001b[0;34m\u001b[0m\u001b[0;34m\u001b[0m\u001b[0m\n",
      "\u001b[0;32m~/opt/anaconda3/envs/py38/lib/python3.8/site-packages/web3/manager.py\u001b[0m in \u001b[0;36mformatted_response\u001b[0;34m(self, response, params, error_formatters, null_result_formatters)\u001b[0m\n\u001b[1;32m    165\u001b[0m     ) -> Any:\n\u001b[1;32m    166\u001b[0m         \u001b[0;32mif\u001b[0m \u001b[0;34m\"error\"\u001b[0m \u001b[0;32min\u001b[0m \u001b[0mresponse\u001b[0m\u001b[0;34m:\u001b[0m\u001b[0;34m\u001b[0m\u001b[0;34m\u001b[0m\u001b[0m\n\u001b[0;32m--> 167\u001b[0;31m             \u001b[0mapply_error_formatters\u001b[0m\u001b[0;34m(\u001b[0m\u001b[0merror_formatters\u001b[0m\u001b[0;34m,\u001b[0m \u001b[0mresponse\u001b[0m\u001b[0;34m)\u001b[0m\u001b[0;34m\u001b[0m\u001b[0;34m\u001b[0m\u001b[0m\n\u001b[0m\u001b[1;32m    168\u001b[0m             \u001b[0;32mraise\u001b[0m \u001b[0mValueError\u001b[0m\u001b[0;34m(\u001b[0m\u001b[0mresponse\u001b[0m\u001b[0;34m[\u001b[0m\u001b[0;34m\"error\"\u001b[0m\u001b[0;34m]\u001b[0m\u001b[0;34m)\u001b[0m\u001b[0;34m\u001b[0m\u001b[0;34m\u001b[0m\u001b[0m\n\u001b[1;32m    169\u001b[0m         \u001b[0;32melif\u001b[0m \u001b[0mresponse\u001b[0m\u001b[0;34m[\u001b[0m\u001b[0;34m'result'\u001b[0m\u001b[0;34m]\u001b[0m \u001b[0;32min\u001b[0m \u001b[0mNULL_RESPONSES\u001b[0m\u001b[0;34m:\u001b[0m\u001b[0;34m\u001b[0m\u001b[0;34m\u001b[0m\u001b[0m\n",
      "\u001b[0;32m~/opt/anaconda3/envs/py38/lib/python3.8/site-packages/web3/manager.py\u001b[0m in \u001b[0;36mapply_error_formatters\u001b[0;34m(error_formatters, response)\u001b[0m\n\u001b[1;32m     65\u001b[0m ) -> RPCResponse:\n\u001b[1;32m     66\u001b[0m     \u001b[0;32mif\u001b[0m \u001b[0merror_formatters\u001b[0m\u001b[0;34m:\u001b[0m\u001b[0;34m\u001b[0m\u001b[0;34m\u001b[0m\u001b[0m\n\u001b[0;32m---> 67\u001b[0;31m         \u001b[0mformatted_resp\u001b[0m \u001b[0;34m=\u001b[0m \u001b[0mpipe\u001b[0m\u001b[0;34m(\u001b[0m\u001b[0mresponse\u001b[0m\u001b[0;34m,\u001b[0m \u001b[0merror_formatters\u001b[0m\u001b[0;34m)\u001b[0m\u001b[0;34m\u001b[0m\u001b[0;34m\u001b[0m\u001b[0m\n\u001b[0m\u001b[1;32m     68\u001b[0m         \u001b[0;32mreturn\u001b[0m \u001b[0mformatted_resp\u001b[0m\u001b[0;34m\u001b[0m\u001b[0;34m\u001b[0m\u001b[0m\n\u001b[1;32m     69\u001b[0m     \u001b[0;32melse\u001b[0m\u001b[0;34m:\u001b[0m\u001b[0;34m\u001b[0m\u001b[0;34m\u001b[0m\u001b[0m\n",
      "\u001b[0;32m~/opt/anaconda3/envs/py38/lib/python3.8/site-packages/cytoolz/functoolz.pyx\u001b[0m in \u001b[0;36mcytoolz.functoolz.pipe\u001b[0;34m()\u001b[0m\n",
      "\u001b[0;32m~/opt/anaconda3/envs/py38/lib/python3.8/site-packages/cytoolz/functoolz.pyx\u001b[0m in \u001b[0;36mcytoolz.functoolz.c_pipe\u001b[0;34m()\u001b[0m\n",
      "\u001b[0;32m~/opt/anaconda3/envs/py38/lib/python3.8/site-packages/web3/_utils/method_formatters.py\u001b[0m in \u001b[0;36mraise_solidity_error_on_revert\u001b[0;34m(response)\u001b[0m\n\u001b[1;32m    551\u001b[0m     \u001b[0;31m# Geth case:\u001b[0m\u001b[0;34m\u001b[0m\u001b[0;34m\u001b[0m\u001b[0;34m\u001b[0m\u001b[0m\n\u001b[1;32m    552\u001b[0m     \u001b[0;32mif\u001b[0m \u001b[0;34m'message'\u001b[0m \u001b[0;32min\u001b[0m \u001b[0mresponse\u001b[0m\u001b[0;34m[\u001b[0m\u001b[0;34m'error'\u001b[0m\u001b[0;34m]\u001b[0m \u001b[0;32mand\u001b[0m \u001b[0mresponse\u001b[0m\u001b[0;34m[\u001b[0m\u001b[0;34m'error'\u001b[0m\u001b[0;34m]\u001b[0m\u001b[0;34m.\u001b[0m\u001b[0mget\u001b[0m\u001b[0;34m(\u001b[0m\u001b[0;34m'code'\u001b[0m\u001b[0;34m,\u001b[0m \u001b[0;34m''\u001b[0m\u001b[0;34m)\u001b[0m \u001b[0;34m==\u001b[0m \u001b[0;36m3\u001b[0m\u001b[0;34m:\u001b[0m\u001b[0;34m\u001b[0m\u001b[0;34m\u001b[0m\u001b[0m\n\u001b[0;32m--> 553\u001b[0;31m         \u001b[0;32mraise\u001b[0m \u001b[0mContractLogicError\u001b[0m\u001b[0;34m(\u001b[0m\u001b[0mresponse\u001b[0m\u001b[0;34m[\u001b[0m\u001b[0;34m'error'\u001b[0m\u001b[0;34m]\u001b[0m\u001b[0;34m[\u001b[0m\u001b[0;34m'message'\u001b[0m\u001b[0;34m]\u001b[0m\u001b[0;34m)\u001b[0m\u001b[0;34m\u001b[0m\u001b[0;34m\u001b[0m\u001b[0m\n\u001b[0m\u001b[1;32m    554\u001b[0m \u001b[0;34m\u001b[0m\u001b[0m\n\u001b[1;32m    555\u001b[0m     \u001b[0;31m# Geth Revert without error message case:\u001b[0m\u001b[0;34m\u001b[0m\u001b[0;34m\u001b[0m\u001b[0;34m\u001b[0m\u001b[0m\n",
      "\u001b[0;31mContractLogicError\u001b[0m: execution reverted: payout denominator already set"
     ]
    }
   ],
   "source": [
    "#1* reporting reportPayouts (questionId, payouts[])\n",
    "payouts = [1,0]\n",
    "tx = contracts[\"ConditionalTokens_py\"].reportPayouts(marketConf['questionId'], payouts, account_admin, private_key, 1000000)"
   ]
  },
  {
   "cell_type": "code",
   "execution_count": 53,
   "id": "087ae37a",
   "metadata": {},
   "outputs": [
    {
     "name": "stdout",
     "output_type": "stream",
     "text": [
      "Here is the tx hash: 0x5968c433fc6667ec4269e1f1b3cbdd3ea366983027361026a97f910df1fda69b\n",
      "\n",
      "Was transaction successful?\n",
      "1\n"
     ]
    }
   ],
   "source": [
    "## 5 Redeeming positions\n",
    "#0* conditionalTokens.redeemPositions(collateralToken,parentCollectionId,conditionId, partition, amount)\n",
    "indexSets = [1,2]\n",
    "tx = contracts[\"ConditionalTokens_py\"].redeemPositions(contracts[\"ConditionalTokens_py\"].getAddress(),\n",
    "                                                       parentCollectionId,\n",
    "                                                       conditionId, \n",
    "                                                       [1,2], account2, account2_key, 1000000)"
   ]
  }
 ],
 "metadata": {
  "kernelspec": {
   "display_name": "Python 3",
   "language": "python",
   "name": "python3"
  },
  "language_info": {
   "codemirror_mode": {
    "name": "ipython",
    "version": 3
   },
   "file_extension": ".py",
   "mimetype": "text/x-python",
   "name": "python",
   "nbconvert_exporter": "python",
   "pygments_lexer": "ipython3",
   "version": "3.8.10"
  }
 },
 "nbformat": 4,
 "nbformat_minor": 5
}
