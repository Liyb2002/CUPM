{
 "cells": [
  {
   "cell_type": "code",
   "execution_count": 27,
   "id": "ab7ba3e5",
   "metadata": {},
   "outputs": [],
   "source": [
    "from web3 import Web3\n",
    "from web3.middleware import geth_poa_middleware\n",
    "import json\n",
    "\n",
    "import os\n",
    "import sys\n",
    "sys.path.insert(0, '/Users/jianqiongzhan/Downloads/git/PredictionMarkets/cu_pm_v.1.3/app/src/blockchain/utils')\n",
    "from Web3Con import getWeb3\n",
    "from SolidityContracts import getContract\n",
    "from tx2re import transaction2receipt"
   ]
  },
  {
   "cell_type": "code",
   "execution_count": 2,
   "id": "f22db966",
   "metadata": {},
   "outputs": [],
   "source": [
    "import pprint\n",
    "from dotenv import load_dotenv\n",
    "load_dotenv()\n",
    "infura_key = os.getenv('INFURA_KEY')"
   ]
  },
  {
   "cell_type": "code",
   "execution_count": 3,
   "id": "d106bd3e",
   "metadata": {},
   "outputs": [],
   "source": [
    "# set up web provider, why this won't work?\n",
    "web_provider = 'infura'\n",
    "w3, account_admin, private_key = getWeb3(web_provider)\n",
    "# inject the poa compatibility middleware to the innermost layer\n",
    "w3.middleware_onion.clear()\n",
    "w3.middleware_onion.inject(geth_poa_middleware, layer=0)"
   ]
  },
  {
   "cell_type": "code",
   "execution_count": 4,
   "id": "186e7e63",
   "metadata": {},
   "outputs": [],
   "source": [
    "w3.eth.default_account = account_admin"
   ]
  },
  {
   "cell_type": "code",
   "execution_count": 5,
   "id": "766a0f6c",
   "metadata": {},
   "outputs": [
    {
     "name": "stdout",
     "output_type": "stream",
     "text": [
      "Contract Instance Created!\n",
      "Contract Instance Created!\n",
      "Contract Instance Created!\n",
      "Contract Instance Created!\n",
      "Contract Instance Created!\n"
     ]
    }
   ],
   "source": [
    "# get contract\n",
    "csToken_json = '../contracts_data/csTokendata.json'\n",
    "conditionalTokens_json = '../contracts_data/conditionalTokensdata.json'\n",
    "lmsrmm_json = '../contracts_data/lmsrmmdata.json'\n",
    "lmsrmmf_json = '../contracts_data/lmsrmmfdata.json'\n",
    "whitelist_json = '../contracts_data/whitelistdata.json'\n",
    "\n",
    "csToken_contract = getContract(csToken_json,w3)\n",
    "ConditionalTokens_contract = getContract(conditionalTokens_json,w3)\n",
    "lmsrmm_contract = getContract(lmsrmm_json,w3)\n",
    "lmsrmmf_contract = getContract(lmsrmmf_json,w3)\n",
    "whitelist_contract = getContract(whitelist_json,w3)"
   ]
  },
  {
   "cell_type": "markdown",
   "id": "ec830316",
   "metadata": {},
   "source": [
    "# test Repo"
   ]
  },
  {
   "cell_type": "code",
   "execution_count": 6,
   "id": "45042145",
   "metadata": {},
   "outputs": [],
   "source": [
    "account2 = '0x998818Cf86d48e6a66A7d3cbdCa895Ee37560D62'\n",
    "account3 = '0x5e971fc6A50CAEEC02FCC108E076a335b478A2E7'\n",
    "account3_key = '91c933a855549abf965f689d31693471e127ad734b93b0dbe28412f1b835f7b3'\n",
    "account2_key ='41981cf11ea41055a221faa62ab12411a27ad2e3f229396b06d956f1fb96f2bc'"
   ]
  },
  {
   "cell_type": "code",
   "execution_count": 7,
   "id": "cda33a08",
   "metadata": {},
   "outputs": [],
   "source": [
    "parentCollectionId = '0x0000000000000000000000000000000000000000000000000000000000000000'\n",
    "questionId = w3.keccak(2)\n",
    "slotNumber = 2\n",
    "outcomeSlotCount = 2"
   ]
  },
  {
   "cell_type": "code",
   "execution_count": 8,
   "id": "edacd70d",
   "metadata": {},
   "outputs": [],
   "source": [
    "from csTokenRepo import csTokenRepo\n",
    "from ConditionalTokensRepo import ConditionalTokensRepo"
   ]
  },
  {
   "cell_type": "code",
   "execution_count": 9,
   "id": "f6d0d33c",
   "metadata": {},
   "outputs": [],
   "source": [
    "collateralToken = csTokenRepo(w3, csToken_contract)"
   ]
  },
  {
   "cell_type": "code",
   "execution_count": 10,
   "id": "4e3053c7",
   "metadata": {},
   "outputs": [],
   "source": [
    "ConditionalTokens = ConditionalTokensRepo(w3, ConditionalTokens_contract)"
   ]
  },
  {
   "cell_type": "code",
   "execution_count": 11,
   "id": "daa53d22",
   "metadata": {
    "scrolled": true
   },
   "outputs": [
    {
     "data": {
      "text/plain": [
       "'0x8d1299667B8de9F8691A61E3dD6905df91703a0D'"
      ]
     },
     "execution_count": 11,
     "metadata": {},
     "output_type": "execute_result"
    }
   ],
   "source": [
    "ConditionalTokens.getAddress()"
   ]
  },
  {
   "cell_type": "code",
   "execution_count": 12,
   "id": "de6305ff",
   "metadata": {},
   "outputs": [
    {
     "data": {
      "text/plain": [
       "'Columbia Sports Token'"
      ]
     },
     "execution_count": 12,
     "metadata": {},
     "output_type": "execute_result"
    }
   ],
   "source": [
    "collateralToken.name()"
   ]
  },
  {
   "cell_type": "code",
   "execution_count": 13,
   "id": "6943819c",
   "metadata": {},
   "outputs": [
    {
     "data": {
      "text/plain": [
       "'0xB99Cb9e89a64c1aA077DF6a2C4c5474DA7BC7dDe'"
      ]
     },
     "execution_count": 13,
     "metadata": {},
     "output_type": "execute_result"
    }
   ],
   "source": [
    "collateralToken.getAddress()"
   ]
  },
  {
   "cell_type": "code",
   "execution_count": 14,
   "id": "b2d10c99",
   "metadata": {},
   "outputs": [],
   "source": [
    "questionId = w3.keccak(9)"
   ]
  },
  {
   "cell_type": "code",
   "execution_count": 15,
   "id": "3a0bc2fa",
   "metadata": {},
   "outputs": [
    {
     "name": "stdout",
     "output_type": "stream",
     "text": [
      "Here is the tx hash: 0xe667befe52f292e2991eeade5d5bbde5681cc1f38ed2c732700649d359a0cf24\n",
      "\n",
      "Was transaction successful?\n",
      "1\n"
     ]
    }
   ],
   "source": [
    "ConditionalTokens.prepareCondition(account_admin, w3.keccak(9), outcomeSlotCount, account_admin, private_key, 1000000)"
   ]
  },
  {
   "cell_type": "code",
   "execution_count": 17,
   "id": "720fd4e8",
   "metadata": {},
   "outputs": [
    {
     "name": "stdout",
     "output_type": "stream",
     "text": [
      "b'\\x90\\xb1\\xbf\\x9fE\"\\x0e\\x07\\xe5\\xd3\\t|\\xf8\\xfeF\\xcf\\xad\\xcb\\x9c\\x9f\\xa4\\x7f\\xf5\\xb8\\xaa?\\xd8\\xdb\\xe7\\x9c9.'\n"
     ]
    }
   ],
   "source": [
    "#1a.getConditionId\n",
    "#conditionId = ConditionalTokens.getConditionId(account_admin, questionId, 2)\n",
    "conditionId = getConditionId(account_admin, questionId, 2)\n",
    "print(conditionId)"
   ]
  },
  {
   "cell_type": "code",
   "execution_count": 18,
   "id": "08cfee6a",
   "metadata": {},
   "outputs": [
    {
     "data": {
      "text/plain": [
       "2"
      ]
     },
     "execution_count": 18,
     "metadata": {},
     "output_type": "execute_result"
    }
   ],
   "source": [
    "ConditionalTokens.getOutcomeSlotCount(conditionId)"
   ]
  },
  {
   "cell_type": "code",
   "execution_count": 19,
   "id": "9132f813",
   "metadata": {},
   "outputs": [
    {
     "data": {
      "text/plain": [
       "0"
      ]
     },
     "execution_count": 19,
     "metadata": {},
     "output_type": "execute_result"
    }
   ],
   "source": [
    "# payoutDenominator: 0 not yet, 1 done\n",
    "payoutDenominator = ConditionalTokens.payoutDenominator(conditionId)\n",
    "payoutDenominator"
   ]
  },
  {
   "cell_type": "code",
   "execution_count": 20,
   "id": "575e5988",
   "metadata": {},
   "outputs": [
    {
     "data": {
      "text/plain": [
       "0"
      ]
     },
     "execution_count": 20,
     "metadata": {},
     "output_type": "execute_result"
    }
   ],
   "source": [
    "# payoutNumerators: 0 not yet, 1 done\n",
    "payoutNumerators = ConditionalTokens.payoutNumerators(conditionId, 1)\n",
    "payoutNumerators"
   ]
  },
  {
   "cell_type": "code",
   "execution_count": 21,
   "id": "2322522c",
   "metadata": {},
   "outputs": [],
   "source": [
    "CollectionIdLo = ConditionalTokens.getCollectionId(parentCollectionId, conditionId , 0)\n",
    "CollectionIdHi = ConditionalTokens.getCollectionId(parentCollectionId, conditionId , 1)"
   ]
  },
  {
   "cell_type": "code",
   "execution_count": 24,
   "id": "e56da510",
   "metadata": {},
   "outputs": [],
   "source": [
    "PositionIdLo = ConditionalTokens.getPositionId(collateralToken.getAddress(), CollectionIdLo)\n",
    "PositionIdHi = ConditionalTokens.getPositionId(collateralToken.getAddress(), CollectionIdLo)"
   ]
  },
  {
   "cell_type": "code",
   "execution_count": 25,
   "id": "88bbe43b",
   "metadata": {},
   "outputs": [
    {
     "data": {
      "text/plain": [
       "0"
      ]
     },
     "execution_count": 25,
     "metadata": {},
     "output_type": "execute_result"
    }
   ],
   "source": [
    "ConditionalTokens.balanceOf(account_admin, PositionIdLo)"
   ]
  },
  {
   "cell_type": "code",
   "execution_count": 28,
   "id": "2725dfa3",
   "metadata": {},
   "outputs": [
    {
     "data": {
      "text/plain": [
       "[0, 0]"
      ]
     },
     "execution_count": 28,
     "metadata": {},
     "output_type": "execute_result"
    }
   ],
   "source": [
    "ConditionalTokens.balanceOfBatch([account_admin,account2], [PositionIdLo,PositionIdLo])"
   ]
  },
  {
   "cell_type": "code",
   "execution_count": 29,
   "id": "5e7f0459",
   "metadata": {
    "scrolled": true
   },
   "outputs": [
    {
     "data": {
      "text/plain": [
       "False"
      ]
     },
     "execution_count": 29,
     "metadata": {},
     "output_type": "execute_result"
    }
   ],
   "source": [
    "ConditionalTokens.isApprovedForAll(account2, lmsrmm_contract.address)"
   ]
  },
  {
   "cell_type": "code",
   "execution_count": 30,
   "id": "8c73ccc2",
   "metadata": {},
   "outputs": [
    {
     "data": {
      "text/plain": [
       "0"
      ]
     },
     "execution_count": 30,
     "metadata": {},
     "output_type": "execute_result"
    }
   ],
   "source": [
    "# before splitPosition check on allownace\n",
    "csToken_contract.functions.allowance(account_admin, ConditionalTokens_contract.address).call()"
   ]
  },
  {
   "cell_type": "code",
   "execution_count": 31,
   "id": "2dce6009",
   "metadata": {},
   "outputs": [
    {
     "name": "stdout",
     "output_type": "stream",
     "text": [
      "100\n",
      "0\n"
     ]
    }
   ],
   "source": [
    "print(collateralToken.balanceOf(account_admin))\n",
    "print(collateralToken.balanceOf(ConditionalTokens.getAddress()))"
   ]
  },
  {
   "cell_type": "code",
   "execution_count": 32,
   "id": "64cbec5c",
   "metadata": {
    "scrolled": true
   },
   "outputs": [
    {
     "name": "stdout",
     "output_type": "stream",
     "text": [
      "Here is the tx hash: 0x2e00a18627c756dce5c8f53b17e3ec8c8e67fadf65028f8b0e27cfc7eca6f90a\n",
      "\n",
      "Was transaction successful?\n",
      "1\n"
     ]
    }
   ],
   "source": [
    "tx = collateralToken.approve(ConditionalTokens.getAddress(), 100, account_admin, private_key, 1000000)"
   ]
  },
  {
   "cell_type": "code",
   "execution_count": 33,
   "id": "b1c53333",
   "metadata": {},
   "outputs": [
    {
     "data": {
      "text/plain": [
       "100"
      ]
     },
     "execution_count": 33,
     "metadata": {},
     "output_type": "execute_result"
    }
   ],
   "source": [
    "collateralToken.allowance(account_admin, ConditionalTokens.getAddress())"
   ]
  },
  {
   "cell_type": "code",
   "execution_count": 34,
   "id": "2a81de33",
   "metadata": {},
   "outputs": [
    {
     "name": "stdout",
     "output_type": "stream",
     "text": [
      "Here is the tx hash: 0xab8123637f73ad726e9c428eff62f46ebbd72ab49b5d0f501922a2674f49b8a8\n",
      "\n",
      "Was transaction successful?\n",
      "1\n"
     ]
    }
   ],
   "source": [
    "tx1 = ConditionalTokens.splitPosition(collateralToken.getAddress(), parentCollectionId, conditionId, [1,2], 100,\n",
    "                                     account_admin, private_key, 1000000)"
   ]
  },
  {
   "cell_type": "code",
   "execution_count": 35,
   "id": "7fbbca8b",
   "metadata": {},
   "outputs": [
    {
     "name": "stdout",
     "output_type": "stream",
     "text": [
      "0\n",
      "100\n"
     ]
    }
   ],
   "source": [
    "print(collateralToken.balanceOf(account_admin))\n",
    "print(collateralToken.balanceOf(ConditionalTokens.getAddress()))"
   ]
  },
  {
   "cell_type": "code",
   "execution_count": 36,
   "id": "7d513ed4",
   "metadata": {},
   "outputs": [
    {
     "name": "stdout",
     "output_type": "stream",
     "text": [
      "0\n",
      "0\n",
      "0\n",
      "0\n"
     ]
    }
   ],
   "source": [
    "print(ConditionalTokens.balanceOf(account_admin, PositionIdLo))\n",
    "print(ConditionalTokens.balanceOf(account_admin, PositionIdHi))\n",
    "print(ConditionalTokens.balanceOf(collateralToken.getAddress(), PositionIdLo))\n",
    "print(ConditionalTokens.balanceOf(collateralToken.getAddress(), PositionIdHi))"
   ]
  },
  {
   "cell_type": "code",
   "execution_count": 37,
   "id": "a145450c",
   "metadata": {},
   "outputs": [
    {
     "data": {
      "text/plain": [
       "0"
      ]
     },
     "execution_count": 37,
     "metadata": {},
     "output_type": "execute_result"
    }
   ],
   "source": [
    "# before splitPosition check on allownace\n",
    "collateralToken.allowance(account_admin, ConditionalTokens_contract.address)"
   ]
  },
  {
   "cell_type": "code",
   "execution_count": 38,
   "id": "b8f285f4",
   "metadata": {},
   "outputs": [
    {
     "name": "stdout",
     "output_type": "stream",
     "text": [
      "Here is the tx hash: 0x3d9f04d8c6bce3f7da4b797f5d41fc72ec072320cf55960ccfee0401f0cdaf28\n",
      "\n",
      "Was transaction successful?\n",
      "1\n"
     ]
    }
   ],
   "source": [
    "tx = collateralToken.approve(ConditionalTokens.getAddress(), 100,\n",
    "                            account_admin, private_key, 1000000)"
   ]
  },
  {
   "cell_type": "code",
   "execution_count": 39,
   "id": "11bd85a0",
   "metadata": {},
   "outputs": [
    {
     "data": {
      "text/plain": [
       "100"
      ]
     },
     "execution_count": 39,
     "metadata": {},
     "output_type": "execute_result"
    }
   ],
   "source": [
    "collateralToken.allowance(account_admin, ConditionalTokens.getAddress())"
   ]
  },
  {
   "cell_type": "code",
   "execution_count": 40,
   "id": "2a4d08cd",
   "metadata": {},
   "outputs": [
    {
     "name": "stdout",
     "output_type": "stream",
     "text": [
      "Here is the tx hash: 0xaf76686397278b037be80e1af7add1826ef95dd27901a7cc015e82ed4464146a\n",
      "\n",
      "Was transaction successful?\n",
      "1\n"
     ]
    }
   ],
   "source": [
    "tx1 = ConditionalTokens.mergePositions(collateralToken.getAddress(), parentCollectionId, conditionId, [1,2], 100,\n",
    "                                      account_admin, private_key, 1000000)"
   ]
  },
  {
   "cell_type": "code",
   "execution_count": 41,
   "id": "1b395e05",
   "metadata": {},
   "outputs": [
    {
     "name": "stdout",
     "output_type": "stream",
     "text": [
      "100\n",
      "0\n"
     ]
    }
   ],
   "source": [
    "print(collateralToken.balanceOf(account_admin))\n",
    "print(collateralToken.balanceOf(ConditionalTokens.getAddress()))"
   ]
  },
  {
   "cell_type": "code",
   "execution_count": 42,
   "id": "bd2f5ff6",
   "metadata": {},
   "outputs": [
    {
     "name": "stdout",
     "output_type": "stream",
     "text": [
      "Here is the tx hash: 0xd0d2dd1300e369a776bc90fbca8e1bdd6761855a7e39e0c9df192968785878e6\n",
      "\n",
      "Was transaction successful?\n",
      "1\n"
     ]
    }
   ],
   "source": [
    "ConditionalTokens.setApprovalForAll(ConditionalTokens.getAddress(), True, account2, account2_key, 1000000)"
   ]
  },
  {
   "cell_type": "code",
   "execution_count": 43,
   "id": "91945dce",
   "metadata": {},
   "outputs": [
    {
     "data": {
      "text/plain": [
       "True"
      ]
     },
     "execution_count": 43,
     "metadata": {},
     "output_type": "execute_result"
    }
   ],
   "source": [
    "ConditionalTokens.isApprovedForAll(account2, ConditionalTokens.getAddress())"
   ]
  },
  {
   "cell_type": "code",
   "execution_count": null,
   "id": "2235b86b",
   "metadata": {},
   "outputs": [],
   "source": [
    "ConditionalTokens.reportPayouts(questionId, [1,0],\n",
    "                               account_admin, private_key, 1000000)"
   ]
  },
  {
   "cell_type": "code",
   "execution_count": null,
   "id": "6fe2e847",
   "metadata": {},
   "outputs": [],
   "source": [
    "ConditionalTokens.redeemPositions(csToken_contract.address, parentCollectionId, conditionId, [1,2], account2, account2_key, 1000000)"
   ]
  },
  {
   "cell_type": "code",
   "execution_count": null,
   "id": "04ef4450",
   "metadata": {},
   "outputs": [],
   "source": []
  }
 ],
 "metadata": {
  "kernelspec": {
   "display_name": "Python 3",
   "language": "python",
   "name": "python3"
  },
  "language_info": {
   "codemirror_mode": {
    "name": "ipython",
    "version": 3
   },
   "file_extension": ".py",
   "mimetype": "text/x-python",
   "name": "python",
   "nbconvert_exporter": "python",
   "pygments_lexer": "ipython3",
   "version": "3.8.10"
  }
 },
 "nbformat": 4,
 "nbformat_minor": 5
}
