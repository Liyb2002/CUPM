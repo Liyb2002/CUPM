{
 "cells": [
  {
   "cell_type": "code",
   "execution_count": 1,
   "id": "01a21e0b",
   "metadata": {},
   "outputs": [],
   "source": [
    "import json\n",
    "from web3 import Web3\n",
    "from web3.middleware import geth_poa_middleware\n",
    "\n",
    "import os\n",
    "import sys\n",
    "sys.path.insert(0, '/Users/jianqiongzhan/Downloads/git/PredictionMarkets/cu_pm_v.1.3/app/src/blockchain/utils')\n",
    "from Web3Con import getWeb3\n",
    "from SolidityContracts import getContract"
   ]
  },
  {
   "cell_type": "code",
   "execution_count": 2,
   "id": "a2548f26",
   "metadata": {},
   "outputs": [],
   "source": [
    "import pprint\n",
    "from dotenv import load_dotenv\n",
    "load_dotenv()\n",
    "infura_key = os.getenv('INFURA_KEY')"
   ]
  },
  {
   "cell_type": "code",
   "execution_count": 3,
   "id": "2e10bf33",
   "metadata": {},
   "outputs": [],
   "source": [
    "# set up web provider, why this won't work?\n",
    "web_provider = 'infura'\n",
    "w3, account_admin, private_key = getWeb3(web_provider)\n",
    "# inject the poa compatibility middleware to the innermost layer\n",
    "w3.middleware_onion.clear()\n",
    "w3.middleware_onion.inject(geth_poa_middleware, layer=0)"
   ]
  },
  {
   "cell_type": "code",
   "execution_count": 4,
   "id": "339bf1ad",
   "metadata": {},
   "outputs": [],
   "source": [
    "w3.eth.default_account = account_admin"
   ]
  },
  {
   "cell_type": "code",
   "execution_count": 5,
   "id": "7f9d332b",
   "metadata": {},
   "outputs": [],
   "source": [
    "account2 = '0x998818Cf86d48e6a66A7d3cbdCa895Ee37560D62'\n",
    "account3 = '0x5e971fc6A50CAEEC02FCC108E076a335b478A2E7'\n",
    "\n",
    "account3_key = '91c933a855549abf965f689d31693471e127ad734b93b0dbe28412f1b835f7b3'\n",
    "account2_key ='41981cf11ea41055a221faa62ab12411a27ad2e3f229396b06d956f1fb96f2bc'\n",
    "\n",
    "#parentCollectionId = '0x0000000000000000000000000000000000000000000000000000000000000000'"
   ]
  },
  {
   "cell_type": "markdown",
   "id": "c3395cf0",
   "metadata": {},
   "source": [
    "# Market Dicts:\n",
    "- Contracts\n",
    "- marketConf\n",
    "- lmsrmmConf"
   ]
  },
  {
   "cell_type": "code",
   "execution_count": 6,
   "id": "603531ee",
   "metadata": {
    "scrolled": true
   },
   "outputs": [
    {
     "name": "stdout",
     "output_type": "stream",
     "text": [
      "Contract Instance Created!\n",
      "Contract Instance Created!\n",
      "Contract Instance Created!\n",
      "Contract Instance Created!\n",
      "Contract Instance Created!\n"
     ]
    }
   ],
   "source": [
    "from Contracts import loadContracts\n",
    "contracts = loadContracts(w3)"
   ]
  },
  {
   "cell_type": "code",
   "execution_count": 20,
   "id": "750a6f67",
   "metadata": {},
   "outputs": [],
   "source": [
    "csToken = contracts['csToken_py']\n",
    "ConditionalTokens = contracts['ConditionalTokens_py']\n",
    "whitelist = contracts['whitelist_py']"
   ]
  },
  {
   "cell_type": "markdown",
   "id": "ec4a2119",
   "metadata": {},
   "source": [
    "# step 0: admin new participants\n",
    "* funds new participants \n",
    "* add new participants to whitelist"
   ]
  },
  {
   "cell_type": "markdown",
   "id": "aa261e17",
   "metadata": {},
   "source": [
    "### 0.0 Admin funds a new user"
   ]
  },
  {
   "cell_type": "code",
   "execution_count": 12,
   "id": "5db0e6c5",
   "metadata": {},
   "outputs": [],
   "source": [
    "def adminMintTokens(csTokenPy, amount, account_admin, private_key):\n",
    "    csTokenPy.mint(account_admin, amount, account_admin, private_key, 100000)"
   ]
  },
  {
   "cell_type": "code",
   "execution_count": 18,
   "id": "d832ceee",
   "metadata": {},
   "outputs": [],
   "source": [
    "def adminFunsNewUser(csTokenPy, userAccount, amount, account_admin, private_key):\n",
    "    csTokenPy.mint(userAccount, amount, account_admin, private_key, 100000)"
   ]
  },
  {
   "cell_type": "code",
   "execution_count": 14,
   "id": "b9fecde9",
   "metadata": {
    "scrolled": true
   },
   "outputs": [
    {
     "name": "stdout",
     "output_type": "stream",
     "text": [
      "1999999999998000000\n"
     ]
    }
   ],
   "source": [
    "admin_balance = csToken.balanceOf(account_admin)\n",
    "print(admin_balance)\n",
    "#adminMintTokens(csToken, 100, account_admin, private_key)\n",
    "# admin_balance = csToken.balanceOf(account_admin)\n",
    "# print(admin_balance)"
   ]
  },
  {
   "cell_type": "code",
   "execution_count": 15,
   "id": "c197ede8",
   "metadata": {},
   "outputs": [
    {
     "name": "stdout",
     "output_type": "stream",
     "text": [
      "714\n",
      "1050\n"
     ]
    }
   ],
   "source": [
    "print(csToken.balanceOf(account2))\n",
    "print(csToken.balanceOf(account3))"
   ]
  },
  {
   "cell_type": "code",
   "execution_count": 19,
   "id": "68b226bd",
   "metadata": {},
   "outputs": [
    {
     "name": "stdout",
     "output_type": "stream",
     "text": [
      "Here is the tx hash: 0xb3491183b8bced46be5fd9565c5546688234e4b91de884920087cf5c8617722e\n",
      "\n",
      "Was transaction successful?\n",
      "1\n",
      "1000\n",
      "1050\n"
     ]
    }
   ],
   "source": [
    "userFunding = 1000\n",
    "adminFunsNewUser(csToken, account2, 286, account_admin, private_key)\n",
    "print(csToken.balanceOf(account2))\n",
    "print(csToken.balanceOf(account3))"
   ]
  },
  {
   "cell_type": "markdown",
   "id": "18412eb3",
   "metadata": {},
   "source": [
    "### 0.1 Admin add a new user to whitelist"
   ]
  },
  {
   "cell_type": "code",
   "execution_count": 21,
   "id": "c1346f58",
   "metadata": {},
   "outputs": [],
   "source": [
    "def addUserToWhitelist(whitelistPy, newUserList,account_admin, private_key):\n",
    "    whitelist.addToWhitelist(newUserList,account_admin, private_key, 1000000)"
   ]
  },
  {
   "cell_type": "code",
   "execution_count": 22,
   "id": "aa66eec8",
   "metadata": {},
   "outputs": [
    {
     "name": "stdout",
     "output_type": "stream",
     "text": [
      "Here is the tx hash: 0x157906c779c221c74bb3409887491e7052245c682307e7d4e7580e688e88e108\n",
      "\n",
      "Was transaction successful?\n",
      "1\n"
     ]
    }
   ],
   "source": [
    "insert_address_list = [account2]\n",
    "addUserToWhitelist(whitelist, insert_address_list,account_admin, private_key)"
   ]
  },
  {
   "cell_type": "markdown",
   "id": "f1791f15",
   "metadata": {},
   "source": [
    "# step 1: admin - create a new market, return a new market address\n",
    "* input: marketConf which includes questionId, slotNumber, participants_list\n",
    "* return: lmsrmmConf which includes additional market elements, such as conditionId, questionId, lmsrAddress\n",
    "### 1.1 prepare market: marketConf"
   ]
  },
  {
   "cell_type": "code",
   "execution_count": 23,
   "id": "7eeafbb8",
   "metadata": {},
   "outputs": [],
   "source": [
    "from collections import defaultdict\n",
    "from Markets import setNewMarket\n",
    "import json"
   ]
  },
  {
   "cell_type": "code",
   "execution_count": 24,
   "id": "02af1044",
   "metadata": {},
   "outputs": [
    {
     "data": {
      "text/plain": [
       "HexBytes('0xbc36789e7a1e281436464229828f817d6612f7b477d66591ff96a9e064bcc98a')"
      ]
     },
     "execution_count": 24,
     "metadata": {},
     "output_type": "execute_result"
    }
   ],
   "source": [
    "#questionId can be read from questions.conf\n",
    "questionId = w3.keccak(0)\n",
    "print(questionId)\n",
    "slotNumber = 2\n",
    "participants_list = [account_admin, account2, account3]\n",
    "# set up ammFunding:a*userFunding*numberUsers\n",
    "# userN = 100\n",
    "# ammAlpha = 0.05\n",
    "#ammFunding = int(ammAlpha*userN*userFunding)\n",
    "ammFunding = 10000"
   ]
  },
  {
   "cell_type": "code",
   "execution_count": 25,
   "id": "e2ee7052",
   "metadata": {},
   "outputs": [],
   "source": [
    "marketConf = setNewMarket(questionId, slotNumber, participants_list)"
   ]
  },
  {
   "cell_type": "code",
   "execution_count": 27,
   "id": "f3b5ffd7",
   "metadata": {
    "scrolled": true
   },
   "outputs": [
    {
     "data": {
      "text/plain": [
       "defaultdict(<function Markets.setNewMarket.<locals>.<lambda>()>,\n",
       "            {'slotNumber': 2,\n",
       "             'fee': 0,\n",
       "             'ammFunding': 100000,\n",
       "             'questionId': HexBytes('0xbc36789e7a1e281436464229828f817d6612f7b477d66591ff96a9e064bcc98a'),\n",
       "             'participants': ['0x03abA998B8888A2F8bdA00e5ddb8d4a598Af69BF',\n",
       "              '0x998818Cf86d48e6a66A7d3cbdCa895Ee37560D62',\n",
       "              '0x5e971fc6A50CAEEC02FCC108E076a335b478A2E7']})"
      ]
     },
     "execution_count": 27,
     "metadata": {},
     "output_type": "execute_result"
    }
   ],
   "source": [
    "marketConf"
   ]
  },
  {
   "cell_type": "markdown",
   "id": "3349ba4c",
   "metadata": {},
   "source": [
    "### 1.2 create a new market\n",
    "* return lmsrmmConf and lmsrMarketMakerPy"
   ]
  },
  {
   "cell_type": "code",
   "execution_count": 28,
   "id": "ff1459ad",
   "metadata": {},
   "outputs": [],
   "source": [
    "from CreateMarketMaker import CreateMarketMaker"
   ]
  },
  {
   "cell_type": "code",
   "execution_count": 29,
   "id": "6c5b6bb0",
   "metadata": {},
   "outputs": [],
   "source": [
    "CMM = CreateMarketMaker(w3, contracts)"
   ]
  },
  {
   "cell_type": "code",
   "execution_count": 30,
   "id": "d2b076d8",
   "metadata": {
    "scrolled": true
   },
   "outputs": [
    {
     "name": "stdout",
     "output_type": "stream",
     "text": [
      "getOutcomeSlotCount: 2\n",
      "check balance and alloance\n",
      "insufficient allowance\n",
      "Here is the tx hash: 0x7a79b400359279b7b102117f8e88e4d3237bad2bc5cbbc6aaff7dcd5890eb5b8\n",
      "\n",
      "Was transaction successful?\n",
      "1\n",
      "create lmsr market\n",
      "Here is the tx hash: 0x86a8f2c882a317ef67d07bef99004424397b53b128492633f0aaf705bdc22571\n",
      "\n",
      "Was transaction successful?\n",
      "1\n"
     ]
    }
   ],
   "source": [
    "# get a new market conf and contract\n",
    "lmsrmmConf = CMM.createMM(marketConf, account_admin, private_key, 100000)"
   ]
  },
  {
   "cell_type": "code",
   "execution_count": 31,
   "id": "e92432f0",
   "metadata": {},
   "outputs": [
    {
     "data": {
      "text/plain": [
       "defaultdict(<function Markets.setNewMarket.<locals>.<lambda>()>,\n",
       "            {'slotNumber': 2,\n",
       "             'fee': 0,\n",
       "             'ammFunding': 100000,\n",
       "             'questionId': HexBytes('0xbc36789e7a1e281436464229828f817d6612f7b477d66591ff96a9e064bcc98a'),\n",
       "             'participants': ['0x03abA998B8888A2F8bdA00e5ddb8d4a598Af69BF',\n",
       "              '0x998818Cf86d48e6a66A7d3cbdCa895Ee37560D62',\n",
       "              '0x5e971fc6A50CAEEC02FCC108E076a335b478A2E7'],\n",
       "             'whitelistAddress': '0x56BB0Cf91DC3EF2ee673b295E2B2c6A71B7c214A',\n",
       "             'collectionIdLo': b'VpO\\xb2\\xfb\\xad\\xe3}E\\x9d)\\xaa\\xfb\\x13E\\x19XL\\xf7\\xe3D\\xd9D/\\x94\\x10\\xb2\\x8a-\\x9eUt',\n",
       "             'collectionIdHi': b'k\\xedhxI\\x1c\\xbb\\xf9T\\xd2w\\x0eD\\x17Y\\xa1a\\x93\\x1aK\\xceu\\xdc\\xc9\\x08\\x93S_2\\xaa:d',\n",
       "             'positionIdLo': 44864808530423467817684757102559084987219612428291462483317597837068129475904,\n",
       "             'positionIdHi': 57100431479013312900015733347854945894454161496577978294072899289196043783358,\n",
       "             'lmsrAddress': '0x21cA27beb9640d50639a1D23e2c9d527Da7D3f75',\n",
       "             'creator': '0x03abA998B8888A2F8bdA00e5ddb8d4a598Af69BF',\n",
       "             'csTokenAddress': '0xB99Cb9e89a64c1aA077DF6a2C4c5474DA7BC7dDe',\n",
       "             'ConditionalTokensAddress': '0x8d1299667B8de9F8691A61E3dD6905df91703a0D',\n",
       "             'conditionId': b'\\x81\\xad\\x17\\xa2\\xb9\\x0fY\\xff\\x99m\\xf0k\\xf0\\xc0\\x11Y\\xfd/\\x99N\\x11R\\r\\x92)\\x11ea\\x8d\\x91\\x8d(',\n",
       "             'lmsrmm_contract': <web3._utils.datatypes.Contract at 0x7fe4f983c640>})"
      ]
     },
     "execution_count": 31,
     "metadata": {},
     "output_type": "execute_result"
    }
   ],
   "source": [
    "lmsrmmConf"
   ]
  },
  {
   "cell_type": "code",
   "execution_count": 32,
   "id": "26a9e713",
   "metadata": {},
   "outputs": [],
   "source": [
    "lmsrMarketMaker_contract_new = lmsrmmConf['lmsrmm_contract']"
   ]
  },
  {
   "cell_type": "code",
   "execution_count": 33,
   "id": "3956540c",
   "metadata": {},
   "outputs": [],
   "source": [
    "# get lmsrMarketMaker python usable functions\n",
    "from MarketMakersRepo import MarketMakersRepo\n",
    "lmsrMarketMaker = MarketMakersRepo(w3, lmsrMarketMaker_contract_new)"
   ]
  },
  {
   "cell_type": "markdown",
   "id": "c6620f4a",
   "metadata": {},
   "source": [
    "Now a new market is ready for users to trade !!!"
   ]
  },
  {
   "cell_type": "markdown",
   "id": "e7d1413e",
   "metadata": {},
   "source": [
    "# step 2: start trade\n",
    "#### before trade, check on current market status"
   ]
  },
  {
   "cell_type": "code",
   "execution_count": 36,
   "id": "2ca40ca2",
   "metadata": {},
   "outputs": [
    {
     "data": {
      "text/plain": [
       "b'\\x81\\xad\\x17\\xa2\\xb9\\x0fY\\xff\\x99m\\xf0k\\xf0\\xc0\\x11Y\\xfd/\\x99N\\x11R\\r\\x92)\\x11ea\\x8d\\x91\\x8d('"
      ]
     },
     "execution_count": 36,
     "metadata": {},
     "output_type": "execute_result"
    }
   ],
   "source": [
    "conditionId = lmsrmmConf['conditionId']\n",
    "conditionId"
   ]
  },
  {
   "cell_type": "code",
   "execution_count": 37,
   "id": "209601fc",
   "metadata": {},
   "outputs": [
    {
     "data": {
      "text/plain": [
       "1"
      ]
     },
     "execution_count": 37,
     "metadata": {},
     "output_type": "execute_result"
    }
   ],
   "source": [
    "#payoutDenominator = 1, means that the market is closed.\n",
    "payoutDenominator = ConditionalTokens.payoutDenominator(conditionId)\n",
    "payoutDenominator"
   ]
  },
  {
   "cell_type": "code",
   "execution_count": 38,
   "id": "51fcf537",
   "metadata": {},
   "outputs": [
    {
     "data": {
      "text/plain": [
       "1"
      ]
     },
     "execution_count": 38,
     "metadata": {},
     "output_type": "execute_result"
    }
   ],
   "source": [
    "payoutNominator = ConditionalTokens.payoutDenominator(conditionId)\n",
    "payoutNominator"
   ]
  },
  {
   "cell_type": "code",
   "execution_count": 42,
   "id": "60088665",
   "metadata": {},
   "outputs": [
    {
     "data": {
      "text/plain": [
       "'0x21cA27beb9640d50639a1D23e2c9d527Da7D3f75'"
      ]
     },
     "execution_count": 42,
     "metadata": {},
     "output_type": "execute_result"
    }
   ],
   "source": [
    "lmsrmmConf['lmsrAddress']"
   ]
  },
  {
   "cell_type": "code",
   "execution_count": 44,
   "id": "5f79607a",
   "metadata": {},
   "outputs": [
    {
     "data": {
      "text/plain": [
       "defaultdict(<function Markets.setNewMarket.<locals>.<lambda>()>,\n",
       "            {'slotNumber': 2,\n",
       "             'fee': 0,\n",
       "             'ammFunding': 100000,\n",
       "             'questionId': HexBytes('0xbc36789e7a1e281436464229828f817d6612f7b477d66591ff96a9e064bcc98a'),\n",
       "             'participants': ['0x03abA998B8888A2F8bdA00e5ddb8d4a598Af69BF',\n",
       "              '0x998818Cf86d48e6a66A7d3cbdCa895Ee37560D62',\n",
       "              '0x5e971fc6A50CAEEC02FCC108E076a335b478A2E7'],\n",
       "             'whitelistAddress': '0x56BB0Cf91DC3EF2ee673b295E2B2c6A71B7c214A',\n",
       "             'collectionIdLo': b'VpO\\xb2\\xfb\\xad\\xe3}E\\x9d)\\xaa\\xfb\\x13E\\x19XL\\xf7\\xe3D\\xd9D/\\x94\\x10\\xb2\\x8a-\\x9eUt',\n",
       "             'collectionIdHi': b'k\\xedhxI\\x1c\\xbb\\xf9T\\xd2w\\x0eD\\x17Y\\xa1a\\x93\\x1aK\\xceu\\xdc\\xc9\\x08\\x93S_2\\xaa:d',\n",
       "             'positionIdLo': 44864808530423467817684757102559084987219612428291462483317597837068129475904,\n",
       "             'positionIdHi': 57100431479013312900015733347854945894454161496577978294072899289196043783358,\n",
       "             'lmsrAddress': '0x21cA27beb9640d50639a1D23e2c9d527Da7D3f75',\n",
       "             'creator': '0x03abA998B8888A2F8bdA00e5ddb8d4a598Af69BF',\n",
       "             'csTokenAddress': '0xB99Cb9e89a64c1aA077DF6a2C4c5474DA7BC7dDe',\n",
       "             'ConditionalTokensAddress': '0x8d1299667B8de9F8691A61E3dD6905df91703a0D',\n",
       "             'conditionId': b'\\x81\\xad\\x17\\xa2\\xb9\\x0fY\\xff\\x99m\\xf0k\\xf0\\xc0\\x11Y\\xfd/\\x99N\\x11R\\r\\x92)\\x11ea\\x8d\\x91\\x8d(',\n",
       "             'lmsrmm_contract': <web3._utils.datatypes.Contract at 0x7fe4f983c640>,\n",
       "             'PositionIdLo': 'Not Present',\n",
       "             'PositionIdHi': 'Not Present'})"
      ]
     },
     "execution_count": 44,
     "metadata": {},
     "output_type": "execute_result"
    }
   ],
   "source": [
    "lmsrmmConf"
   ]
  },
  {
   "cell_type": "code",
   "execution_count": 45,
   "id": "233835f8",
   "metadata": {
    "scrolled": true
   },
   "outputs": [
    {
     "name": "stdout",
     "output_type": "stream",
     "text": [
      "lmsrMarketMaker_funding:100000\n",
      "csToken_account2_balance: 1000\n",
      "csToken_account3_balance: 1050\n",
      "csToken_lmsrMarketMaker_balance: 0\n",
      "probability0: 50.00\n",
      "probability1: 50.00\n",
      "balance_lmsrmm_lo: 100000\n",
      "balance_lmsrmm_hi: 100000\n",
      "balance_account_admin_lo: 0\n",
      "balance_account_admin_hi: 0\n",
      "balance_account2_lo: 0\n",
      "balance_account2_hi: 100\n",
      "balance_account3_lo: 0\n",
      "balance_account3_hi: 0\n",
      "payoutNumerator0: 1\n",
      "payoutNumerator1: 0\n"
     ]
    }
   ],
   "source": [
    "print(f'lmsrMarketMaker_funding:{lmsrMarketMaker.funding()}')\n",
    "print(f'csToken_account2_balance: {csToken.balanceOf(account2)}')\n",
    "print(f'csToken_account3_balance: {csToken.balanceOf(account3)}')\n",
    "print(f'csToken_lmsrMarketMaker_balance: {csToken.balanceOf(lmsrMarketMaker.getAddress())}')\n",
    "\n",
    "probability0 = lmsrMarketMaker.calcMarginalPrice(0)\n",
    "probability1 = lmsrMarketMaker.calcMarginalPrice(1)\n",
    "balance_lmsrmm_lo = ConditionalTokens.balanceOf(lmsrmmConf['lmsrAddress'], lmsrmmConf['positionIdLo'])\n",
    "balance_lmsrmm_hi = ConditionalTokens.balanceOf(lmsrmmConf['lmsrAddress'], lmsrmmConf['positionIdHi'])\n",
    "\n",
    "balance_account_admin_lo = ConditionalTokens.balanceOf(account_admin, lmsrmmConf['positionIdLo'])\n",
    "balance_account_admin_hi = ConditionalTokens.balanceOf(account_admin, lmsrmmConf['positionIdHi'])\n",
    "\n",
    "balance_account2_lo = ConditionalTokens.balanceOf(account2, lmsrmmConf['positionIdLo'])\n",
    "balance_account2_hi = ConditionalTokens.balanceOf(account2, lmsrmmConf['positionIdHi'])\n",
    "balance_account3_lo = ConditionalTokens.balanceOf(account3, lmsrmmConf['positionIdLo'])\n",
    "balance_account3_hi = ConditionalTokens.balanceOf(account3, lmsrmmConf['positionIdHi'])\n",
    "\n",
    "payoutNumerator0 = ConditionalTokens.payoutNumerators(\n",
    "    lmsrmmConf['conditionId'],\n",
    "    0,\n",
    ")\n",
    "payoutNumerator1 = ConditionalTokens.payoutNumerators(\n",
    "    lmsrmmConf['conditionId'],\n",
    "    1,\n",
    ")\n",
    "\n",
    "print(f'probability0: {probability0}')\n",
    "print(f'probability1: {probability1}')\n",
    "\n",
    "print(f'balance_lmsrmm_lo: {balance_lmsrmm_lo}')  \n",
    "print(f'balance_lmsrmm_hi: {balance_lmsrmm_hi}')\n",
    "\n",
    "print(f'balance_account_admin_lo: {balance_account_admin_lo}')  \n",
    "print(f'balance_account_admin_hi: {balance_account_admin_hi}')  \n",
    "\n",
    "print(f'balance_account2_lo: {balance_account2_lo}')  \n",
    "print(f'balance_account2_hi: {balance_account2_hi}')  \n",
    "print(f'balance_account3_lo: {balance_account3_lo}')  \n",
    "print(f'balance_account3_hi: {balance_account3_hi}')  \n",
    "\n",
    "print(f'payoutNumerator0: {payoutNumerator0}')\n",
    "print(f'payoutNumerator1: {payoutNumerator1}')"
   ]
  },
  {
   "cell_type": "markdown",
   "id": "88b3b834",
   "metadata": {},
   "source": [
    "#### participants trade (Buy or Sell)"
   ]
  },
  {
   "cell_type": "code",
   "execution_count": 46,
   "id": "9fcaf80e",
   "metadata": {},
   "outputs": [],
   "source": [
    "# buy\n",
    "def userBuy(lmsrmmPy, csTokenPy, outcomeTokenAmounts, account, account_key):\n",
    "    #0 check allowance\n",
    "    spender = lmsrmmPy.getAddress()\n",
    "    tradeAllowance = csTokenPy.allowance(account, spender)\n",
    "    print(f'tradeAllowance: {tradeAllowance}')\n",
    "    #1calculate cost\n",
    "    cost = lmsrmmPy.calcNetCost(outcomeTokenAmounts)\n",
    "    print(f'buy cost: {cost}')\n",
    "    #2approve to get allowance: transaction successful\n",
    "    if tradeAllowance < sum(outcomeTokenAmounts):\n",
    "        csTokenPy.approve(spender,sum(outcomeTokenAmounts), account, account_key, 100000)\n",
    "    #3buy\n",
    "    tx_receipt = lmsrmmPy.trade(outcomeTokenAmounts, cost, account, account_key, 1000000)\n",
    "    return tx_receipt"
   ]
  },
  {
   "cell_type": "code",
   "execution_count": 47,
   "id": "342c01cb",
   "metadata": {},
   "outputs": [],
   "source": [
    "#5sell\n",
    "def userSell(lmsrmmPy, csTokenPy, ConditionalTokensPy, outcomeTokenAmounts_sell, account, account_key):\n",
    "    spender = lmsrmmPy.getAddress()\n",
    "    isApproved = ConditionalTokensPy.isApprovedForAll(account, spender)\n",
    "    if (not isApproved):\n",
    "        print('false')\n",
    "        tx3_hash = ConditionalTokens.setApprovalForAll(spender, True, account, account_key, 100000)\n",
    "    print(ConditionalTokens.isApprovedForAll(account2, spender))\n",
    "    profit = (lmsrmmPy.calcNetCost(outcomeTokenAmounts_sell))*(-1)\n",
    "    print(f'sell profit:{profit}')\n",
    "    tx_receipt = lmsrmmPy.trade(outcomeTokenAmounts_sell, profit, account, account_key,1000000)\n",
    "    return tx_receipt"
   ]
  },
  {
   "cell_type": "code",
   "execution_count": null,
   "id": "38cbd1e6",
   "metadata": {},
   "outputs": [],
   "source": [
    "outcomeTokenAmounts = [0,100]\n",
    "userBuy(lmsrMarketMaker, csToken, outcomeTokenAmounts,account2, account2_key)"
   ]
  },
  {
   "cell_type": "code",
   "execution_count": null,
   "id": "9bbbb669",
   "metadata": {
    "scrolled": false
   },
   "outputs": [],
   "source": [
    "outcomeTokenAmounts_sell = [0,-20]\n",
    "userSell(lmsrMarketMaker, csToken, ConditionalTokens, outcomeTokenAmounts_sell, account2, account2_key)"
   ]
  },
  {
   "cell_type": "markdown",
   "id": "a706547e",
   "metadata": {},
   "source": [
    "# step 3: admin - resolving the market: close the marekt and reportPayouts"
   ]
  },
  {
   "cell_type": "code",
   "execution_count": null,
   "id": "10c836db",
   "metadata": {},
   "outputs": [],
   "source": [
    "# step 5: report payouts\n",
    "def resolveMarket(payouts, account_admin, private_key):\n",
    "    #0 closing the market\n",
    "    tx_receipt = lmsrMarketMaker.close(account_admin, private_key, 100000)\n",
    "    #1* reporting reportPayouts (questionId, payouts[])\n",
    "    tx_receipt = ConditionalTokens.reportPayouts(questionId, payouts, account_admin, private_key, 100000)\n",
    "    return tx_receipt"
   ]
  },
  {
   "cell_type": "code",
   "execution_count": null,
   "id": "f31a4125",
   "metadata": {
    "scrolled": true
   },
   "outputs": [],
   "source": [
    "payouts = [1,0]\n",
    "tx_receipt = resolveMarket(payouts, account_admin, private_key)"
   ]
  },
  {
   "cell_type": "markdown",
   "id": "b06c002f",
   "metadata": {},
   "source": [
    "# step 4: participants - redeem"
   ]
  },
  {
   "cell_type": "code",
   "execution_count": null,
   "id": "9b43aa11",
   "metadata": {},
   "outputs": [],
   "source": [
    "# step 6: user redeeming positions\n",
    "def userRedeeming(parentCollectionId, conditionId, indexSets, account2, account2_key):\n",
    "    tx_receipt = ConditionalTokens.redeemPositions(csToken.getAddress(),parentCollectionId,conditionId, indexSets ,account2, account2_key, 1000000)\n",
    "    return tx_receipt"
   ]
  },
  {
   "cell_type": "code",
   "execution_count": null,
   "id": "14f08441",
   "metadata": {},
   "outputs": [],
   "source": [
    "indexSets = [1,2]\n",
    "tx_receipt = userRedeeming(parentCollectionId, lmsrmmConf['conditionId'], indexSets, account2, account2_key)"
   ]
  },
  {
   "cell_type": "code",
   "execution_count": null,
   "id": "71cae59a",
   "metadata": {},
   "outputs": [],
   "source": [
    "indexSets = [1,2]\n",
    "tx_receipt = userRedeeming(parentCollectionId, lmsrmmConf['conditionId'], indexSets, account3, account3_key)"
   ]
  }
 ],
 "metadata": {
  "kernelspec": {
   "display_name": "Python 3",
   "language": "python",
   "name": "python3"
  },
  "language_info": {
   "codemirror_mode": {
    "name": "ipython",
    "version": 3
   },
   "file_extension": ".py",
   "mimetype": "text/x-python",
   "name": "python",
   "nbconvert_exporter": "python",
   "pygments_lexer": "ipython3",
   "version": "3.8.10"
  }
 },
 "nbformat": 4,
 "nbformat_minor": 5
}
