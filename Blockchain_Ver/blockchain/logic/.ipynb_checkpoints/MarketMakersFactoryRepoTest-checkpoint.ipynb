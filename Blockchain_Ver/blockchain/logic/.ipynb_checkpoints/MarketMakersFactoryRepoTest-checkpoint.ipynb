{
 "cells": [
  {
   "cell_type": "code",
   "execution_count": 1,
   "id": "ab7ba3e5",
   "metadata": {},
   "outputs": [],
   "source": [
    "from web3 import Web3\n",
    "from web3.middleware import geth_poa_middleware\n",
    "import json\n",
    "\n",
    "import os\n",
    "import sys\n",
    "sys.path.insert(0, '/Users/jianqiongzhan/Downloads/git/PredictionMarkets/cu_pm_v.1.3/app/src/blockchain/utils')\n",
    "from Web3Con import getWeb3\n",
    "from SolidityContracts import getContract\n",
    "from tx2re import transaction2receipt"
   ]
  },
  {
   "cell_type": "code",
   "execution_count": 2,
   "id": "f22db966",
   "metadata": {},
   "outputs": [],
   "source": [
    "import pprint\n",
    "from dotenv import load_dotenv\n",
    "load_dotenv()\n",
    "infura_key = os.getenv('INFURA_KEY')"
   ]
  },
  {
   "cell_type": "code",
   "execution_count": 3,
   "id": "d106bd3e",
   "metadata": {},
   "outputs": [],
   "source": [
    "# set up web provider, why this won't work?\n",
    "web_provider = 'infura'\n",
    "w3, account_admin, private_key = getWeb3(web_provider)\n",
    "# inject the poa compatibility middleware to the innermost layer\n",
    "w3.middleware_onion.clear()\n",
    "w3.middleware_onion.inject(geth_poa_middleware, layer=0)"
   ]
  },
  {
   "cell_type": "code",
   "execution_count": 4,
   "id": "186e7e63",
   "metadata": {},
   "outputs": [],
   "source": [
    "w3.eth.default_account = account_admin"
   ]
  },
  {
   "cell_type": "code",
   "execution_count": 5,
   "id": "766a0f6c",
   "metadata": {},
   "outputs": [
    {
     "name": "stdout",
     "output_type": "stream",
     "text": [
      "Contract Instance Created!\n",
      "Contract Instance Created!\n",
      "Contract Instance Created!\n",
      "Contract Instance Created!\n",
      "Contract Instance Created!\n"
     ]
    }
   ],
   "source": [
    "# get contract\n",
    "csToken_json = '../contracts_data/csTokendata.json'\n",
    "conditionalTokens_json = '../contracts_data/conditionalTokensdata.json'\n",
    "lmsrmm_json = '../contracts_data/lmsrmmdata.json'\n",
    "lmsrmmf_json = '../contracts_data/lmsrmmfdata.json'\n",
    "whitelist_json = '../contracts_data/whitelistdata.json'\n",
    "\n",
    "csToken_contract = getContract(csToken_json,w3)\n",
    "ConditionalTokens_contract = getContract(conditionalTokens_json,w3)\n",
    "lmsrmm_contract = getContract(lmsrmm_json,w3)\n",
    "lmsrmmf_contract = getContract(lmsrmmf_json,w3)\n",
    "whitelist_contract = getContract(whitelist_json,w3)"
   ]
  },
  {
   "cell_type": "code",
   "execution_count": 6,
   "id": "45a9afa6",
   "metadata": {},
   "outputs": [],
   "source": [
    "account2 = '0x998818Cf86d48e6a66A7d3cbdCa895Ee37560D62'\n",
    "account3 = '0x5e971fc6A50CAEEC02FCC108E076a335b478A2E7'\n",
    "account3_key = '91c933a855549abf965f689d31693471e127ad734b93b0dbe28412f1b835f7b3'\n",
    "account2_key ='41981cf11ea41055a221faa62ab12411a27ad2e3f229396b06d956f1fb96f2bc'"
   ]
  },
  {
   "cell_type": "code",
   "execution_count": 7,
   "id": "8a7b1355",
   "metadata": {},
   "outputs": [],
   "source": [
    "appropriate_gas_amount = 1000000"
   ]
  },
  {
   "cell_type": "code",
   "execution_count": 8,
   "id": "2388a5ad",
   "metadata": {},
   "outputs": [],
   "source": [
    "parentCollectionId = '0x0000000000000000000000000000000000000000000000000000000000000000'\n",
    "slotNumber = 2\n",
    "outcomeSlotCount = 2"
   ]
  },
  {
   "cell_type": "markdown",
   "id": "ec830316",
   "metadata": {},
   "source": [
    "# test Repo"
   ]
  },
  {
   "cell_type": "code",
   "execution_count": 9,
   "id": "edacd70d",
   "metadata": {},
   "outputs": [],
   "source": [
    "from whitelistRepo import whitelistRepo\n",
    "from csTokenRepo import csTokenRepo\n",
    "from ConditionalTokensRepo import ConditionalTokensRepo\n",
    "# from MarketMakersRepo import MarketMakersRepo\n",
    "from MarketMakersFactoryRepo import MarketMakersFactoryRepo\n",
    "whitelist = whitelistRepo(w3,whitelist_contract)\n",
    "csToken = csTokenRepo(w3, csToken_contract)\n",
    "ConditionalTokens = ConditionalTokensRepo(w3, ConditionalTokens_contract)\n",
    "# lmsrMarketMaker = MarketMakersRepo(w3, lmsrmm_contract)\n",
    "lmsrMMF = MarketMakersFactoryRepo(w3, lmsrmmf_contract)"
   ]
  },
  {
   "cell_type": "code",
   "execution_count": 10,
   "id": "25d198a4",
   "metadata": {},
   "outputs": [
    {
     "data": {
      "text/plain": [
       "'0x56BB0Cf91DC3EF2ee673b295E2B2c6A71B7c214A'"
      ]
     },
     "execution_count": 10,
     "metadata": {},
     "output_type": "execute_result"
    }
   ],
   "source": [
    "whitelist.getAddress()"
   ]
  },
  {
   "cell_type": "code",
   "execution_count": 11,
   "id": "210e4e65",
   "metadata": {},
   "outputs": [
    {
     "data": {
      "text/plain": [
       "'0xB99Cb9e89a64c1aA077DF6a2C4c5474DA7BC7dDe'"
      ]
     },
     "execution_count": 11,
     "metadata": {},
     "output_type": "execute_result"
    }
   ],
   "source": [
    "csToken.getAddress()"
   ]
  },
  {
   "cell_type": "code",
   "execution_count": 12,
   "id": "52f50608",
   "metadata": {},
   "outputs": [
    {
     "data": {
      "text/plain": [
       "'0x8d1299667B8de9F8691A61E3dD6905df91703a0D'"
      ]
     },
     "execution_count": 12,
     "metadata": {},
     "output_type": "execute_result"
    }
   ],
   "source": [
    "ConditionalTokens.getAddress()"
   ]
  },
  {
   "cell_type": "code",
   "execution_count": 13,
   "id": "cd7f09a6",
   "metadata": {
    "scrolled": true
   },
   "outputs": [
    {
     "name": "stdout",
     "output_type": "stream",
     "text": [
      "Here is the tx hash: 0x29199c1442de1408f27652bc407a39881f7e0bc2f753f09cb615f7d71124f9d7\n",
      "\n",
      "Was transaction successful?\n",
      "1\n"
     ]
    }
   ],
   "source": [
    "insert_address_list = [account_admin, account2, account3]\n",
    "tx = whitelist.addToWhitelist(insert_address_list, account_admin, private_key, 1000000)"
   ]
  },
  {
   "cell_type": "code",
   "execution_count": 14,
   "id": "51a0a113",
   "metadata": {},
   "outputs": [
    {
     "data": {
      "text/plain": [
       "True"
      ]
     },
     "execution_count": 14,
     "metadata": {},
     "output_type": "execute_result"
    }
   ],
   "source": [
    "whitelist.isWhitelisted(account2)"
   ]
  },
  {
   "cell_type": "code",
   "execution_count": 15,
   "id": "93f17dd6",
   "metadata": {},
   "outputs": [],
   "source": [
    "ConditionalTokensAddress = ConditionalTokens.getAddress()\n",
    "csTokenAddress = csToken.getAddress()\n",
    "whitelistAddress = whitelist.getAddress()\n",
    "lmsrmmfAddress = lmsrMMF.getAddress()"
   ]
  },
  {
   "cell_type": "markdown",
   "id": "a8914607",
   "metadata": {},
   "source": [
    "### 1.2 market setup: questionId, collectionId, positionId"
   ]
  },
  {
   "cell_type": "code",
   "execution_count": 16,
   "id": "0dcad9ea",
   "metadata": {},
   "outputs": [],
   "source": [
    "#option: read questionId from questions.config"
   ]
  },
  {
   "cell_type": "code",
   "execution_count": 17,
   "id": "f818105a",
   "metadata": {},
   "outputs": [],
   "source": [
    "questionId = w3.keccak(0)"
   ]
  },
  {
   "cell_type": "code",
   "execution_count": 18,
   "id": "d8b15427",
   "metadata": {},
   "outputs": [],
   "source": [
    "fee = 0\n",
    "ammFunding = 100"
   ]
  },
  {
   "cell_type": "code",
   "execution_count": 43,
   "id": "8ba32d75",
   "metadata": {},
   "outputs": [
    {
     "name": "stdout",
     "output_type": "stream",
     "text": [
      "condition already prepared\n",
      "b'\\x81\\xad\\x17\\xa2\\xb9\\x0fY\\xff\\x99m\\xf0k\\xf0\\xc0\\x11Y\\xfd/\\x99N\\x11R\\r\\x92)\\x11ea\\x8d\\x91\\x8d('\n"
     ]
    }
   ],
   "source": [
    "#0.prepareCondition if it hasn't been prepared\n",
    "try:\n",
    "    ConditionalTokens.prepareCondition(account_admin, w3.keccak(9), outcomeSlotCount, account_admin, private_key, 1000000)\n",
    "except:\n",
    "    print(\"condition already prepared\")\n",
    "#1a.getConditionId\n",
    "conditionId = ConditionalTokens.getConditionId(account_admin, questionId, 2)\n",
    "print(conditionId)\n",
    "#2.getCollectionId\n",
    "CollectionIdLo = ConditionalTokens.getCollectionId(parentCollectionId, conditionId , 1)\n",
    "CollectionIdHi = ConditionalTokens.getCollectionId(parentCollectionId, conditionId , 2)\n",
    "#3.getPositionId\n",
    "PositionIdLo = ConditionalTokens.getPositionId(csToken.getAddress(), CollectionIdLo)\n",
    "PositionIdHi = ConditionalTokens.getPositionId(csToken.getAddress(), CollectionIdHi)"
   ]
  },
  {
   "cell_type": "code",
   "execution_count": 44,
   "id": "65d2b507",
   "metadata": {},
   "outputs": [
    {
     "name": "stdout",
     "output_type": "stream",
     "text": [
      "conditionId: b'\\x81\\xad\\x17\\xa2\\xb9\\x0fY\\xff\\x99m\\xf0k\\xf0\\xc0\\x11Y\\xfd/\\x99N\\x11R\\r\\x92)\\x11ea\\x8d\\x91\\x8d('\n",
      "CollectionIdLo: b'VpO\\xb2\\xfb\\xad\\xe3}E\\x9d)\\xaa\\xfb\\x13E\\x19XL\\xf7\\xe3D\\xd9D/\\x94\\x10\\xb2\\x8a-\\x9eUt'\n",
      "CollectionIdHi: b'k\\xedhxI\\x1c\\xbb\\xf9T\\xd2w\\x0eD\\x17Y\\xa1a\\x93\\x1aK\\xceu\\xdc\\xc9\\x08\\x93S_2\\xaa:d'\n",
      "PositionIdLo: 44864808530423467817684757102559084987219612428291462483317597837068129475904\n",
      "PositionIdHi: 57100431479013312900015733347854945894454161496577978294072899289196043783358\n"
     ]
    }
   ],
   "source": [
    "print(f'conditionId: {conditionId}')\n",
    "print(f'CollectionIdLo: {CollectionIdLo}')\n",
    "print(f'CollectionIdHi: {CollectionIdHi}')\n",
    "print(f'PositionIdLo: {PositionIdLo}')\n",
    "print(f'PositionIdHi: {PositionIdHi}')"
   ]
  },
  {
   "cell_type": "markdown",
   "id": "52e450be",
   "metadata": {},
   "source": [
    "### 1.3 (mint,) approve, allowance for lmsrMMF"
   ]
  },
  {
   "cell_type": "code",
   "execution_count": 20,
   "id": "4f9f13c8",
   "metadata": {},
   "outputs": [
    {
     "data": {
      "text/plain": [
       "1999999999998400000"
      ]
     },
     "execution_count": 20,
     "metadata": {},
     "output_type": "execute_result"
    }
   ],
   "source": [
    "csToken.balanceOf(account_admin)"
   ]
  },
  {
   "cell_type": "code",
   "execution_count": 21,
   "id": "3bba28ec",
   "metadata": {},
   "outputs": [
    {
     "data": {
      "text/plain": [
       "1999999999998400000"
      ]
     },
     "execution_count": 21,
     "metadata": {},
     "output_type": "execute_result"
    }
   ],
   "source": [
    "#0 mint\n",
    "if csToken.balanceOf(account_admin) < ammFunding:\n",
    "    tx = csToken.mint(account_admin, ammFunding, account_admin, private_key, 1000000)\n",
    "csToken.balanceOf(account_admin)"
   ]
  },
  {
   "cell_type": "code",
   "execution_count": 22,
   "id": "a60ff4b5",
   "metadata": {},
   "outputs": [
    {
     "name": "stdout",
     "output_type": "stream",
     "text": [
      "0\n"
     ]
    }
   ],
   "source": [
    "print(csToken.allowance(account_admin, lmsrmmfAddress))"
   ]
  },
  {
   "cell_type": "code",
   "execution_count": 23,
   "id": "5f4bf59b",
   "metadata": {},
   "outputs": [
    {
     "name": "stdout",
     "output_type": "stream",
     "text": [
      "Here is the tx hash: 0x68570f4b6bf7644999bf982ec616bb22a6d8bd630ef9ba76f67f2be38c641feb\n",
      "\n",
      "Was transaction successful?\n",
      "1\n"
     ]
    }
   ],
   "source": [
    "if csToken.allowance(account_admin, lmsrmmfAddress) < ammFunding:\n",
    "    tx = csToken.approve(lmsrmmfAddress, ammFunding, account_admin, private_key, 1000000)"
   ]
  },
  {
   "cell_type": "code",
   "execution_count": 24,
   "id": "2870211a",
   "metadata": {},
   "outputs": [
    {
     "name": "stdout",
     "output_type": "stream",
     "text": [
      "100\n",
      "1999999999998400000\n",
      "0\n"
     ]
    }
   ],
   "source": [
    "#3allowance: approve doesn't change anything\n",
    "print(csToken.allowance(account_admin, lmsrmmfAddress))\n",
    "print(csToken.balanceOf(account_admin))\n",
    "print(csToken.balanceOf(lmsrmmfAddress))"
   ]
  },
  {
   "cell_type": "code",
   "execution_count": 25,
   "id": "c86732b1",
   "metadata": {},
   "outputs": [
    {
     "data": {
      "text/plain": [
       "100"
      ]
     },
     "execution_count": 25,
     "metadata": {},
     "output_type": "execute_result"
    }
   ],
   "source": [
    "ammFunding"
   ]
  },
  {
   "cell_type": "code",
   "execution_count": 26,
   "id": "b5daf706",
   "metadata": {},
   "outputs": [
    {
     "data": {
      "text/plain": [
       "'0x8d1299667B8de9F8691A61E3dD6905df91703a0D'"
      ]
     },
     "execution_count": 26,
     "metadata": {},
     "output_type": "execute_result"
    }
   ],
   "source": [
    "ConditionalTokensAddress"
   ]
  },
  {
   "cell_type": "code",
   "execution_count": 27,
   "id": "3980cb1e",
   "metadata": {},
   "outputs": [
    {
     "data": {
      "text/plain": [
       "'0x56BB0Cf91DC3EF2ee673b295E2B2c6A71B7c214A'"
      ]
     },
     "execution_count": 27,
     "metadata": {},
     "output_type": "execute_result"
    }
   ],
   "source": [
    "whitelistAddress"
   ]
  },
  {
   "cell_type": "code",
   "execution_count": 28,
   "id": "e16c0ed9",
   "metadata": {},
   "outputs": [
    {
     "data": {
      "text/plain": [
       "'0xB99Cb9e89a64c1aA077DF6a2C4c5474DA7BC7dDe'"
      ]
     },
     "execution_count": 28,
     "metadata": {},
     "output_type": "execute_result"
    }
   ],
   "source": [
    "csTokenAddress"
   ]
  },
  {
   "cell_type": "code",
   "execution_count": 29,
   "id": "dbe37b45",
   "metadata": {},
   "outputs": [
    {
     "data": {
      "text/plain": [
       "0"
      ]
     },
     "execution_count": 29,
     "metadata": {},
     "output_type": "execute_result"
    }
   ],
   "source": [
    "fee"
   ]
  },
  {
   "cell_type": "code",
   "execution_count": 30,
   "id": "76a4938f",
   "metadata": {},
   "outputs": [
    {
     "name": "stdout",
     "output_type": "stream",
     "text": [
      "Here is the tx hash: 0x0a42b992601642a7012ce00f441cef7a61410a55e7b837cf368e3bad0902d7ff\n",
      "\n",
      "Was transaction successful?\n",
      "1\n"
     ]
    }
   ],
   "source": [
    "tx_receipt = lmsrMMF.createLMSRMarketMaker(ConditionalTokensAddress,\n",
    "                                           csTokenAddress,\n",
    "                                           [conditionId],\n",
    "                                           fee,\n",
    "                                           whitelistAddress,\n",
    "                                           ammFunding,\n",
    "                                           account_admin,\n",
    "                                           private_key,\n",
    "                                           1000000)"
   ]
  },
  {
   "cell_type": "code",
   "execution_count": 31,
   "id": "3813fb2a",
   "metadata": {},
   "outputs": [],
   "source": [
    "from web3.logs import STRICT, IGNORE, DISCARD, WARN\n",
    "creationLogEntry = lmsrmmf_contract.events.LMSRMarketMakerCreation().processReceipt(tx_receipt,errors=DISCARD)\n",
    "lmsrAddress = creationLogEntry[0].args.lmsrMarketMaker"
   ]
  },
  {
   "cell_type": "code",
   "execution_count": 38,
   "id": "342615a5",
   "metadata": {},
   "outputs": [
    {
     "data": {
      "text/plain": [
       "'0x56BB0Cf91DC3EF2ee673b295E2B2c6A71B7c214A'"
      ]
     },
     "execution_count": 38,
     "metadata": {},
     "output_type": "execute_result"
    }
   ],
   "source": [
    "whitelistAddress"
   ]
  },
  {
   "cell_type": "code",
   "execution_count": 35,
   "id": "2a75abb9",
   "metadata": {},
   "outputs": [
    {
     "data": {
      "text/plain": [
       "AttributeDict({'creator': '0x03abA998B8888A2F8bdA00e5ddb8d4a598Af69BF',\n",
       " 'lmsrMarketMaker': '0x27892fB2CE150eD6Cb13f7ef957DCF0fD4BCbb3a',\n",
       " 'pmSystem': '0x8d1299667B8de9F8691A61E3dD6905df91703a0D',\n",
       " 'collateralToken': '0xB99Cb9e89a64c1aA077DF6a2C4c5474DA7BC7dDe',\n",
       " 'conditionIds': [b'\\x81\\xad\\x17\\xa2\\xb9\\x0fY\\xff\\x99m\\xf0k\\xf0\\xc0\\x11Y\\xfd/\\x99N\\x11R\\r\\x92)\\x11ea\\x8d\\x91\\x8d('],\n",
       " 'fee': 0,\n",
       " 'funding': 100})"
      ]
     },
     "execution_count": 35,
     "metadata": {},
     "output_type": "execute_result"
    }
   ],
   "source": [
    "creationLogEntry[0].args.creator\n",
    "creationLogEntry[0].args.lmsrMarketMaker\n",
    "creationLogEntry[0].args.pmSystem\n",
    "creationLogEntry[0].args.collateralToken\n",
    "creationLogEntry[0].args.conditionIds\n",
    "creationLogEntry[0].args.fee\n",
    "creationLogEntry[0].args.funding"
   ]
  },
  {
   "cell_type": "code",
   "execution_count": null,
   "id": "7e2d5e55",
   "metadata": {},
   "outputs": [],
   "source": [
    "print(lmsrAddress)"
   ]
  },
  {
   "cell_type": "code",
   "execution_count": null,
   "id": "865eaea8",
   "metadata": {},
   "outputs": [],
   "source": [
    "# from address and json\n",
    "with open(lmsrmm_json, 'r') as f:\n",
    "        datastore = json.load(f)\n",
    "        abi = datastore[\"abi\"]\n",
    "        contract_address = lmsrAddress\n",
    "        lmsrMarketMaker = w3.eth.contract(address=contract_address,abi=abi)"
   ]
  },
  {
   "cell_type": "code",
   "execution_count": null,
   "id": "c6098456",
   "metadata": {},
   "outputs": [],
   "source": [
    "#save to markets.conf.json\n",
    "#lmsrAddress\n",
    "#questionId"
   ]
  }
 ],
 "metadata": {
  "kernelspec": {
   "display_name": "Python 3",
   "language": "python",
   "name": "python3"
  },
  "language_info": {
   "codemirror_mode": {
    "name": "ipython",
    "version": 3
   },
   "file_extension": ".py",
   "mimetype": "text/x-python",
   "name": "python",
   "nbconvert_exporter": "python",
   "pygments_lexer": "ipython3",
   "version": "3.8.10"
  }
 },
 "nbformat": 4,
 "nbformat_minor": 5
}
