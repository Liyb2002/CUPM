{
 "cells": [
  {
   "cell_type": "code",
   "execution_count": 1,
   "id": "ab7ba3e5",
   "metadata": {},
   "outputs": [],
   "source": [
    "from web3 import Web3\n",
    "from web3.middleware import geth_poa_middleware\n",
    "import json\n",
    "\n",
    "import os\n",
    "import sys\n",
    "sys.path.insert(0, '/Users/jianqiongzhan/Downloads/git/PredictionMarkets/cu_pm_v.1.3/app/src/blockchain/utils')\n",
    "from Web3Con import getWeb3\n",
    "from SolidityContracts import getContract\n",
    "from tx2re import transaction2receipt"
   ]
  },
  {
   "cell_type": "code",
   "execution_count": 2,
   "id": "f22db966",
   "metadata": {},
   "outputs": [],
   "source": [
    "import pprint\n",
    "from dotenv import load_dotenv\n",
    "load_dotenv()\n",
    "infura_key = os.getenv('INFURA_KEY')"
   ]
  },
  {
   "cell_type": "code",
   "execution_count": 3,
   "id": "d106bd3e",
   "metadata": {},
   "outputs": [],
   "source": [
    "# set up web provider, why this won't work?\n",
    "web_provider = 'infura'\n",
    "w3, account_admin, private_key = getWeb3(web_provider)\n",
    "# inject the poa compatibility middleware to the innermost layer\n",
    "w3.middleware_onion.clear()\n",
    "w3.middleware_onion.inject(geth_poa_middleware, layer=0)"
   ]
  },
  {
   "cell_type": "code",
   "execution_count": 4,
   "id": "186e7e63",
   "metadata": {},
   "outputs": [],
   "source": [
    "w3.eth.default_account = account_admin"
   ]
  },
  {
   "cell_type": "code",
   "execution_count": 5,
   "id": "766a0f6c",
   "metadata": {},
   "outputs": [
    {
     "name": "stdout",
     "output_type": "stream",
     "text": [
      "Contract Instance Created!\n",
      "Contract Instance Created!\n",
      "Contract Instance Created!\n",
      "Contract Instance Created!\n",
      "Contract Instance Created!\n"
     ]
    }
   ],
   "source": [
    "# get contract\n",
    "csToken_json = '../contracts_data/csTokendata.json'\n",
    "conditionalTokens_json = '../contracts_data/conditionalTokensdata.json'\n",
    "lmsrmm_json = '../contracts_data/lmsrmmdata.json'\n",
    "lmsrmmf_json = '../contracts_data/lmsrmmfdata.json'\n",
    "whitelist_json = '../contracts_data/whitelistdata.json'\n",
    "\n",
    "csToken_contract = getContract(csToken_json,w3)\n",
    "ConditionalTokens_contract = getContract(conditionalTokens_json,w3)\n",
    "lmsrmm_contract = getContract(lmsrmm_json,w3)\n",
    "lmsrmmf_contract = getContract(lmsrmmf_json,w3)\n",
    "whitelist_contract = getContract(whitelist_json,w3)"
   ]
  },
  {
   "cell_type": "markdown",
   "id": "ec830316",
   "metadata": {},
   "source": [
    "# test Repo"
   ]
  },
  {
   "cell_type": "code",
   "execution_count": 6,
   "id": "edacd70d",
   "metadata": {},
   "outputs": [],
   "source": [
    "from whitelistRepo import whitelistRepo"
   ]
  },
  {
   "cell_type": "code",
   "execution_count": 7,
   "id": "4e3053c7",
   "metadata": {},
   "outputs": [],
   "source": [
    "whitelist = whitelistRepo(w3, whitelist_contract)"
   ]
  },
  {
   "cell_type": "code",
   "execution_count": 8,
   "id": "443f8ec8",
   "metadata": {},
   "outputs": [
    {
     "data": {
      "text/plain": [
       "'0x03abA998B8888A2F8bdA00e5ddb8d4a598Af69BF'"
      ]
     },
     "execution_count": 8,
     "metadata": {},
     "output_type": "execute_result"
    }
   ],
   "source": [
    "account2 = '0x998818Cf86d48e6a66A7d3cbdCa895Ee37560D62'\n",
    "account3 = '0x5e971fc6A50CAEEC02FCC108E076a335b478A2E7'\n",
    "insert_address_list = [account_admin, account2, account3]\n",
    "whitelist.owner()"
   ]
  },
  {
   "cell_type": "code",
   "execution_count": 9,
   "id": "66f9f203",
   "metadata": {},
   "outputs": [
    {
     "data": {
      "text/plain": [
       "False"
      ]
     },
     "execution_count": 9,
     "metadata": {},
     "output_type": "execute_result"
    }
   ],
   "source": [
    "whitelist.isWhitelisted(account2)"
   ]
  },
  {
   "cell_type": "code",
   "execution_count": 10,
   "id": "088d8fc3",
   "metadata": {},
   "outputs": [
    {
     "name": "stdout",
     "output_type": "stream",
     "text": [
      "Here is the tx hash: 0xa685b60aa8521bbcb9ceb35b5bc4ce6516eb6695c6afc49bf3cac0f2a47a0fdf\n",
      "\n",
      "Was transaction successful?\n",
      "1\n"
     ]
    }
   ],
   "source": [
    "whitelist.addToWhitelist([account2],account_admin, private_key, 1000000)"
   ]
  },
  {
   "cell_type": "code",
   "execution_count": 11,
   "id": "e7bd4444",
   "metadata": {},
   "outputs": [
    {
     "data": {
      "text/plain": [
       "True"
      ]
     },
     "execution_count": 11,
     "metadata": {},
     "output_type": "execute_result"
    }
   ],
   "source": [
    "whitelist.isWhitelisted(account2)"
   ]
  },
  {
   "cell_type": "code",
   "execution_count": 12,
   "id": "458f0c42",
   "metadata": {},
   "outputs": [
    {
     "name": "stdout",
     "output_type": "stream",
     "text": [
      "Here is the tx hash: 0xaa90859a88043ae18d79052c08196553b1a2d64c5af6d2dc03c6e9010040a5b3\n",
      "\n",
      "Was transaction successful?\n",
      "1\n"
     ]
    }
   ],
   "source": [
    "whitelist.removeFromWhitelist([account2],account_admin, private_key, 1000000)"
   ]
  },
  {
   "cell_type": "code",
   "execution_count": 13,
   "id": "790d7049",
   "metadata": {},
   "outputs": [
    {
     "data": {
      "text/plain": [
       "False"
      ]
     },
     "execution_count": 13,
     "metadata": {},
     "output_type": "execute_result"
    }
   ],
   "source": [
    "whitelist.isWhitelisted(account2)"
   ]
  }
 ],
 "metadata": {
  "kernelspec": {
   "display_name": "Python 3",
   "language": "python",
   "name": "python3"
  },
  "language_info": {
   "codemirror_mode": {
    "name": "ipython",
    "version": 3
   },
   "file_extension": ".py",
   "mimetype": "text/x-python",
   "name": "python",
   "nbconvert_exporter": "python",
   "pygments_lexer": "ipython3",
   "version": "3.8.10"
  }
 },
 "nbformat": 4,
 "nbformat_minor": 5
}
