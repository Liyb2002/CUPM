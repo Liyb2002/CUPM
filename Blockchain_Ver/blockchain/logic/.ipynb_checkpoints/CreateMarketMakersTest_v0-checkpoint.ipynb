{
 "cells": [
  {
   "cell_type": "code",
   "execution_count": 1,
   "id": "ab7ba3e5",
   "metadata": {},
   "outputs": [],
   "source": [
    "from web3 import Web3\n",
    "from web3.middleware import geth_poa_middleware\n",
    "import json\n",
    "\n",
    "import os\n",
    "import sys\n",
    "sys.path.insert(0, '/Users/jianqiongzhan/Downloads/git/PredictionMarkets/cu_pm_v.1.2/app/src/blockchain/utils')\n",
    "import Web3Con\n",
    "import SolidityContracts\n",
    "from tx2re import transaction2receipt"
   ]
  },
  {
   "cell_type": "code",
   "execution_count": 2,
   "id": "f22db966",
   "metadata": {},
   "outputs": [],
   "source": [
    "import pprint\n",
    "from dotenv import load_dotenv\n",
    "load_dotenv()\n",
    "infura_key = os.getenv('INFURA_KEY')"
   ]
  },
  {
   "cell_type": "code",
   "execution_count": 3,
   "id": "d106bd3e",
   "metadata": {},
   "outputs": [],
   "source": [
    "# set up web provider, why this won't work?\n",
    "web_provider = 'infura'\n",
    "w3, account_admin, private_key = Web3Con.get_web3(web_provider)\n",
    "# inject the poa compatibility middleware to the innermost layer\n",
    "w3.middleware_onion.clear()\n",
    "w3.middleware_onion.inject(geth_poa_middleware, layer=0)"
   ]
  },
  {
   "cell_type": "code",
   "execution_count": 4,
   "id": "186e7e63",
   "metadata": {},
   "outputs": [],
   "source": [
    "w3.eth.default_account = account_admin"
   ]
  },
  {
   "cell_type": "code",
   "execution_count": 57,
   "id": "766a0f6c",
   "metadata": {},
   "outputs": [
    {
     "name": "stdout",
     "output_type": "stream",
     "text": [
      "Getting Contract Instance!\n",
      "Getting Contract Instance!\n",
      "Getting Contract Instance!\n",
      "Getting Contract Instance!\n"
     ]
    }
   ],
   "source": [
    "# get contract\n",
    "csToken_json = '../contracts_data/csTokendata.json'\n",
    "conditionalTokens_json = '../contracts_data/conditionalTokensdata.json'\n",
    "lmsrmm_json = '../contracts_data/lmsrmmdata.json'\n",
    "lmsrmmf_json = '../contracts_data/lmsrmmfdata.json'\n",
    "whitelist_json = '../contracts_data/whitelistdata.json'\n",
    "\n",
    "csToken_contract = SolidityContracts.get_contract(csToken_json,w3)\n",
    "ConditionalTokens_contract = SolidityContracts.get_contract(conditionalTokens_json,w3)\n",
    "#lmsrmm_contract = SolidityContracts.get_contract(lmsrmm_json,w3)\n",
    "lmsrmmf_contract = SolidityContracts.get_contract(lmsrmmf_json,w3)\n",
    "whitelist_contract = SolidityContracts.get_contract(whitelist_json,w3)"
   ]
  },
  {
   "cell_type": "code",
   "execution_count": 58,
   "id": "45a9afa6",
   "metadata": {},
   "outputs": [],
   "source": [
    "account2 = '0x998818Cf86d48e6a66A7d3cbdCa895Ee37560D62'\n",
    "account3 = '0x5e971fc6A50CAEEC02FCC108E076a335b478A2E7'\n",
    "account3_key = '91c933a855549abf965f689d31693471e127ad734b93b0dbe28412f1b835f7b3'\n",
    "account2_key ='41981cf11ea41055a221faa62ab12411a27ad2e3f229396b06d956f1fb96f2bc'"
   ]
  },
  {
   "cell_type": "code",
   "execution_count": 59,
   "id": "2388a5ad",
   "metadata": {},
   "outputs": [],
   "source": [
    "parentCollectionId = '0x0000000000000000000000000000000000000000000000000000000000000000'\n",
    "questionId = w3.keccak(2)\n",
    "slotNumber = 2\n",
    "outcomeSlotCount = 2"
   ]
  },
  {
   "cell_type": "markdown",
   "id": "ec830316",
   "metadata": {},
   "source": [
    "# test Repo"
   ]
  },
  {
   "cell_type": "code",
   "execution_count": 60,
   "id": "edacd70d",
   "metadata": {},
   "outputs": [],
   "source": [
    "from whitelistRepo import whitelistRepo\n",
    "from csTokenRepo import csTokenRepo\n",
    "from ConditionalTokensRepo import ConditionalTokensRepo\n",
    "# from MarketMakersRepo import MarketMakersRepo\n",
    "# from MarketMakersFactoryRepo import MarketMakersFactoryRepo\n",
    "whitelist = whitelistRepo(w3,whitelist_contract)\n",
    "collateralToken = csTokenRepo(w3, csToken_contract)\n",
    "ConditionalTokens = ConditionalTokensRepo(w3, ConditionalTokens_contract)\n",
    "# lmsrMarketMaker = MarketMakersRepo(w3, lmsrmm_contract)\n",
    "# lmsrMMF = MarketMakersFactoryRepo(w3, lmsrmmf_contract)"
   ]
  },
  {
   "cell_type": "code",
   "execution_count": 61,
   "id": "25d198a4",
   "metadata": {},
   "outputs": [
    {
     "data": {
      "text/plain": [
       "'0x3e990950e81E88BB50aa46A77896d11e0e2c34C3'"
      ]
     },
     "execution_count": 61,
     "metadata": {},
     "output_type": "execute_result"
    }
   ],
   "source": [
    "whitelist.getAddress()"
   ]
  },
  {
   "cell_type": "code",
   "execution_count": 62,
   "id": "210e4e65",
   "metadata": {},
   "outputs": [
    {
     "data": {
      "text/plain": [
       "'0x93A38DF17768633B0e2D6AEdd4c3793E84963076'"
      ]
     },
     "execution_count": 62,
     "metadata": {},
     "output_type": "execute_result"
    }
   ],
   "source": [
    "collateralToken.getAddress()"
   ]
  },
  {
   "cell_type": "code",
   "execution_count": 63,
   "id": "52f50608",
   "metadata": {},
   "outputs": [
    {
     "data": {
      "text/plain": [
       "'0x881ddF352A42562F99f9F5Ae0c8eA720D9Cf9b8F'"
      ]
     },
     "execution_count": 63,
     "metadata": {},
     "output_type": "execute_result"
    }
   ],
   "source": [
    "ConditionalTokens.getAddress()"
   ]
  },
  {
   "cell_type": "code",
   "execution_count": 64,
   "id": "cd7f09a6",
   "metadata": {
    "scrolled": true
   },
   "outputs": [
    {
     "name": "stdout",
     "output_type": "stream",
     "text": [
      "Here is the tx hash: 0xaf4011e9a71f1eb7c7275131cc8802e85492b707483e2f863ab86db8d9e48777\n",
      "\n",
      "Was transaction successful?\n",
      "1\n"
     ]
    }
   ],
   "source": [
    "insert_address_list = [account_admin, account2, account3]\n",
    "tx = whitelist.addToWhitelist(insert_address_list, account_admin, private_key, 1000000)"
   ]
  },
  {
   "cell_type": "code",
   "execution_count": 17,
   "id": "51a0a113",
   "metadata": {},
   "outputs": [
    {
     "data": {
      "text/plain": [
       "True"
      ]
     },
     "execution_count": 17,
     "metadata": {},
     "output_type": "execute_result"
    }
   ],
   "source": [
    "whitelist.isWhitelisted(account2)"
   ]
  },
  {
   "cell_type": "code",
   "execution_count": 18,
   "id": "93f17dd6",
   "metadata": {},
   "outputs": [],
   "source": [
    "ConditionalTokensAddress = ConditionalTokens.getAddress()\n",
    "csTokenAddress = collateralToken.getAddress()"
   ]
  },
  {
   "cell_type": "code",
   "execution_count": 26,
   "id": "2b443261",
   "metadata": {},
   "outputs": [],
   "source": [
    "lmsrmmfAddress = lmsrMMF.getAddress()"
   ]
  },
  {
   "cell_type": "markdown",
   "id": "5ba7b793",
   "metadata": {},
   "source": [
    "### 1.2 questionId"
   ]
  },
  {
   "cell_type": "code",
   "execution_count": 20,
   "id": "9aa15c3a",
   "metadata": {},
   "outputs": [
    {
     "data": {
      "text/plain": [
       "2"
      ]
     },
     "execution_count": 20,
     "metadata": {},
     "output_type": "execute_result"
    }
   ],
   "source": [
    "#conditionIds = ['0xe4b72c4248b79248da6c25679753732098504f52cc5d563e95bd1b1408416478']\n",
    "questionId = w3.keccak(9)\n",
    "# note: prepareCondition can be done once there is a market\n",
    "# #1a.getConditionId\n",
    "conditionId = ConditionalTokens.getConditionId(account_admin, questionId, 2)\n",
    "#print(conditionId)\n",
    "# #1b.prepareCondition\n",
    "# tx = ConditionalTokens.functions.prepareCondition(account_admin, questionId, outcomeSlotCount).buildTransaction()\n",
    "# tx_receipt = transaction2receipt(tx, account_admin, private_key, 100000)\n",
    "# #1c.getOutcomeSlotCount\n",
    "ConditionalTokens.getOutcomeSlotCount(conditionId)"
   ]
  },
  {
   "cell_type": "code",
   "execution_count": 27,
   "id": "d8b15427",
   "metadata": {},
   "outputs": [],
   "source": [
    "fee = 0\n",
    "whitelistAddress = whitelist.getAddress()\n",
    "ammFunding = 100"
   ]
  },
  {
   "cell_type": "markdown",
   "id": "52e450be",
   "metadata": {},
   "source": [
    "### 1.3 (mint,) approve, allowance for lmsrMMF"
   ]
  },
  {
   "cell_type": "code",
   "execution_count": 37,
   "id": "3bba28ec",
   "metadata": {},
   "outputs": [
    {
     "data": {
      "text/plain": [
       "12999999999999998828"
      ]
     },
     "execution_count": 37,
     "metadata": {},
     "output_type": "execute_result"
    }
   ],
   "source": [
    "#0\n",
    "# tx = csToken.functions.mint(account_admin, 100).buildTransaction()\n",
    "# tx_receipt = transaction2receipt(tx, account_admin, private_key, 100000)['contractAddress']\n",
    "collateralToken.balanceOf(account_admin)"
   ]
  },
  {
   "cell_type": "code",
   "execution_count": 38,
   "id": "a60ff4b5",
   "metadata": {},
   "outputs": [
    {
     "name": "stdout",
     "output_type": "stream",
     "text": [
      "0\n"
     ]
    }
   ],
   "source": [
    "print(collateralToken.allowance(account_admin, lmsrmmfAddress))"
   ]
  },
  {
   "cell_type": "code",
   "execution_count": 49,
   "id": "35db9a0d",
   "metadata": {},
   "outputs": [
    {
     "name": "stdout",
     "output_type": "stream",
     "text": [
      "Here is the tx hash: 0x424886fa8abe39cfb0c0b113cb5643091b0792fec3996dc586fadaf8a190bc7e\n",
      "\n",
      "Was transaction successful?\n",
      "1\n"
     ]
    }
   ],
   "source": [
    "tx = collateralToken.approve(lmsrmmfAddress, ammFunding, account_admin, private_key, 1000000)"
   ]
  },
  {
   "cell_type": "code",
   "execution_count": 50,
   "id": "2870211a",
   "metadata": {},
   "outputs": [
    {
     "name": "stdout",
     "output_type": "stream",
     "text": [
      "100\n",
      "12999999999999998728\n",
      "0\n"
     ]
    }
   ],
   "source": [
    "#3allowance: approve doesn't change anything\n",
    "print(collateralToken.allowance(account_admin, lmsrmmfAddress))\n",
    "# print(ConditionalTokens.functions.balanceOf(account_admin,positionIdLo).call())\n",
    "# print(ConditionalTokens.functions.balanceOf(account_admin,positionIdHi).call())\n",
    "print(collateralToken.balanceOf(account_admin))\n",
    "print(collateralToken.balanceOf(lmsrmmfAddress))"
   ]
  },
  {
   "cell_type": "code",
   "execution_count": 52,
   "id": "c8589125",
   "metadata": {},
   "outputs": [
    {
     "name": "stdout",
     "output_type": "stream",
     "text": [
      "Here is the tx hash: 0xfee2512202c77dbfd880e46530a684949d288e57be98450e64f67600605b58b8\n",
      "\n",
      "Was transaction successful?\n",
      "1\n"
     ]
    }
   ],
   "source": [
    "tx =lmsrmmf_contract.functions.createLMSRMarketMaker(ConditionalTokensAddress, \n",
    "                              csTokenAddress, \n",
    "                              [conditionId],\n",
    "                              fee,\n",
    "                              whitelist_contractAddress, \n",
    "                              ammFunding).buildTransaction()\n",
    "tx_receipt = transaction2receipt(w3, tx, account_admin, private_key, 1000000)"
   ]
  },
  {
   "cell_type": "code",
   "execution_count": 55,
   "id": "3813fb2a",
   "metadata": {},
   "outputs": [],
   "source": [
    "from web3.logs import STRICT, IGNORE, DISCARD, WARN\n",
    "creationLogEntry = lmsrmmf_contract.events.LMSRMarketMakerCreation().processReceipt(tx_receipt)\n",
    "lmsrAddress = creationLogEntry[0].args.lmsrMarketMaker"
   ]
  },
  {
   "cell_type": "code",
   "execution_count": 56,
   "id": "f2016bd5",
   "metadata": {},
   "outputs": [
    {
     "name": "stdout",
     "output_type": "stream",
     "text": [
      "0x112194E76b22fCdacF3b9c06eD1D6196dB30c606\n"
     ]
    }
   ],
   "source": [
    "print(lmsrAddress)"
   ]
  },
  {
   "cell_type": "code",
   "execution_count": 65,
   "id": "3e77bf4e",
   "metadata": {},
   "outputs": [],
   "source": [
    "# from address and json\n",
    "with open(lmsrmm_json, 'r') as f:\n",
    "        datastore = json.load(f)\n",
    "        abi = datastore[\"abi\"]\n",
    "        contract_address = lmsrAddress\n",
    "        lmsrMarketMaker = w3.eth.contract(address=contract_address,abi=abi)"
   ]
  },
  {
   "cell_type": "code",
   "execution_count": null,
   "id": "ec261d1b",
   "metadata": {},
   "outputs": [],
   "source": [
    "# lmsrMarketMaker\n",
    "# questionId"
   ]
  }
 ],
 "metadata": {
  "kernelspec": {
   "display_name": "Python 3",
   "language": "python",
   "name": "python3"
  },
  "language_info": {
   "codemirror_mode": {
    "name": "ipython",
    "version": 3
   },
   "file_extension": ".py",
   "mimetype": "text/x-python",
   "name": "python",
   "nbconvert_exporter": "python",
   "pygments_lexer": "ipython3",
   "version": "3.8.10"
  }
 },
 "nbformat": 4,
 "nbformat_minor": 5
}
