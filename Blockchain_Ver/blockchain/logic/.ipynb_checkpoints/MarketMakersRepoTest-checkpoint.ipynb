{
 "cells": [
  {
   "cell_type": "code",
   "execution_count": 1,
   "id": "ab7ba3e5",
   "metadata": {},
   "outputs": [],
   "source": [
    "from web3 import Web3\n",
    "from web3.middleware import geth_poa_middleware\n",
    "import json\n",
    "\n",
    "import os\n",
    "import sys\n",
    "sys.path.insert(0, '/Users/jianqiongzhan/Downloads/git/PredictionMarkets/cu_pm_v.1.3/app/src/blockchain/utils')\n",
    "from Web3Con import getWeb3\n",
    "from SolidityContracts import getContract\n",
    "from tx2re import transaction2receipt, prob2pct"
   ]
  },
  {
   "cell_type": "code",
   "execution_count": 2,
   "id": "f22db966",
   "metadata": {},
   "outputs": [],
   "source": [
    "import pprint\n",
    "from dotenv import load_dotenv\n",
    "load_dotenv()\n",
    "infura_key = os.getenv('INFURA_KEY')"
   ]
  },
  {
   "cell_type": "code",
   "execution_count": 3,
   "id": "d106bd3e",
   "metadata": {},
   "outputs": [],
   "source": [
    "# set up web provider, why this won't work?\n",
    "web_provider = 'infura'\n",
    "w3, account_admin, private_key = getWeb3(web_provider)\n",
    "# inject the poa compatibility middleware to the innermost layer\n",
    "w3.middleware_onion.clear()\n",
    "w3.middleware_onion.inject(geth_poa_middleware, layer=0)"
   ]
  },
  {
   "cell_type": "code",
   "execution_count": 4,
   "id": "186e7e63",
   "metadata": {},
   "outputs": [],
   "source": [
    "w3.eth.default_account = account_admin"
   ]
  },
  {
   "cell_type": "code",
   "execution_count": 5,
   "id": "766a0f6c",
   "metadata": {},
   "outputs": [
    {
     "name": "stdout",
     "output_type": "stream",
     "text": [
      "Contract Instance Created!\n",
      "Contract Instance Created!\n",
      "Contract Instance Created!\n",
      "Contract Instance Created!\n",
      "Contract Instance Created!\n"
     ]
    }
   ],
   "source": [
    "# get contract\n",
    "csToken_json = '../contracts_data/csTokendata.json'\n",
    "conditionalTokens_json = '../contracts_data/conditionalTokensdata.json'\n",
    "lmsrmm_json = '../contracts_data/lmsrmmdata.json'\n",
    "lmsrmmf_json = '../contracts_data/lmsrmmfdata.json'\n",
    "whitelist_json = '../contracts_data/whitelistdata.json'\n",
    "\n",
    "csToken_contract = getContract(csToken_json,w3)\n",
    "ConditionalTokens_contract = getContract(conditionalTokens_json,w3)\n",
    "lmsrmm_contract = getContract(lmsrmm_json,w3)\n",
    "lmsrmmf_contract = getContract(lmsrmmf_json,w3)\n",
    "whitelist_contract = getContract(whitelist_json,w3)"
   ]
  },
  {
   "cell_type": "code",
   "execution_count": 6,
   "id": "45a9afa6",
   "metadata": {},
   "outputs": [],
   "source": [
    "account2 = '0x998818Cf86d48e6a66A7d3cbdCa895Ee37560D62'\n",
    "account3 = '0x5e971fc6A50CAEEC02FCC108E076a335b478A2E7'\n",
    "account3_key = '91c933a855549abf965f689d31693471e127ad734b93b0dbe28412f1b835f7b3'\n",
    "account2_key ='41981cf11ea41055a221faa62ab12411a27ad2e3f229396b06d956f1fb96f2bc'"
   ]
  },
  {
   "cell_type": "code",
   "execution_count": 7,
   "id": "2388a5ad",
   "metadata": {},
   "outputs": [],
   "source": [
    "parentCollectionId = '0x0000000000000000000000000000000000000000000000000000000000000000'\n",
    "questionId = w3.keccak(2)\n",
    "slotNumber = 2\n",
    "outcomeSlotCount = 2"
   ]
  },
  {
   "cell_type": "markdown",
   "id": "ec830316",
   "metadata": {},
   "source": [
    "# test Repo"
   ]
  },
  {
   "cell_type": "code",
   "execution_count": 8,
   "id": "edacd70d",
   "metadata": {},
   "outputs": [],
   "source": [
    "from csTokenRepo import csTokenRepo\n",
    "from ConditionalTokensRepo import ConditionalTokensRepo\n",
    "from MarketMakersRepo import MarketMakersRepo\n",
    "collateralToken = csTokenRepo(w3, csToken_contract)\n",
    "ConditionalTokens = ConditionalTokensRepo(w3, ConditionalTokens_contract)\n",
    "lmsrMarketMaker = MarketMakersRepo(w3, lmsrmm_contract)"
   ]
  },
  {
   "cell_type": "code",
   "execution_count": 9,
   "id": "b6cbba6d",
   "metadata": {},
   "outputs": [
    {
     "name": "stdout",
     "output_type": "stream",
     "text": [
      "Here is the tx hash: 0x2d3b1c3631dee48e105af4ef1ceb772aff75c393b29b806607a062440f697bfc\n",
      "\n",
      "Was transaction successful?\n",
      "1\n"
     ]
    }
   ],
   "source": [
    "lmsrMarketMaker.pause(account_admin, private_key, 100000)"
   ]
  },
  {
   "cell_type": "code",
   "execution_count": 10,
   "id": "9c36b397",
   "metadata": {
    "scrolled": true
   },
   "outputs": [
    {
     "name": "stdout",
     "output_type": "stream",
     "text": [
      "Here is the tx hash: 0x73e2490f3e95fccbb8bb7363e86cd4d647845b916fbf87850be37a151a5178ce\n",
      "\n",
      "Was transaction successful?\n",
      "1\n"
     ]
    }
   ],
   "source": [
    "lmsrMarketMaker.resume(account_admin, private_key, 100000)"
   ]
  },
  {
   "cell_type": "code",
   "execution_count": 11,
   "id": "e1c5d05e",
   "metadata": {},
   "outputs": [],
   "source": [
    "#lmsrMarketMaker.withdrawFees(account_admin, private_key, 100000)"
   ]
  },
  {
   "cell_type": "code",
   "execution_count": 12,
   "id": "f7cf9b67",
   "metadata": {},
   "outputs": [],
   "source": [
    "#lmsrmm_contract.functions.transferOwnership(account_admin)\n",
    "#lmsrMarketMaker.transferOwnership(account_admin, account_admin, private_key,100000)"
   ]
  },
  {
   "cell_type": "code",
   "execution_count": 13,
   "id": "688943a5",
   "metadata": {},
   "outputs": [],
   "source": [
    "#lmsrmm_contract.functions.changeFee(0)\n",
    "#lmsrMarketMaker.changeFee(1, account_admin, private_key,100000)"
   ]
  },
  {
   "cell_type": "code",
   "execution_count": 14,
   "id": "257f27c5",
   "metadata": {},
   "outputs": [],
   "source": [
    "#lmsrmm_contract.functions.changeFunding(0)\n",
    "#lmsrMarketMaker.changeFunding(1, account_admin, private_key,100000)"
   ]
  },
  {
   "cell_type": "code",
   "execution_count": 15,
   "id": "7d513ed4",
   "metadata": {},
   "outputs": [
    {
     "data": {
      "text/plain": [
       "'0x2a04D3b16d1049850955bb36573F8d5cD562F0D2'"
      ]
     },
     "execution_count": 15,
     "metadata": {},
     "output_type": "execute_result"
    }
   ],
   "source": [
    "lmsrMarketMaker.getAddress()"
   ]
  },
  {
   "cell_type": "code",
   "execution_count": 16,
   "id": "244fc359",
   "metadata": {},
   "outputs": [
    {
     "data": {
      "text/plain": [
       "'0x0000000000000000000000000000000000000000'"
      ]
     },
     "execution_count": 16,
     "metadata": {},
     "output_type": "execute_result"
    }
   ],
   "source": [
    "lmsrMarketMaker.getCollateralToken()"
   ]
  },
  {
   "cell_type": "code",
   "execution_count": 17,
   "id": "eaca54a8",
   "metadata": {},
   "outputs": [
    {
     "data": {
      "text/plain": [
       "'0x0000000000000000000000000000000000000000'"
      ]
     },
     "execution_count": 17,
     "metadata": {},
     "output_type": "execute_result"
    }
   ],
   "source": [
    "lmsrMarketMaker.getpmSystem()"
   ]
  },
  {
   "cell_type": "code",
   "execution_count": 18,
   "id": "c8507e00",
   "metadata": {},
   "outputs": [
    {
     "data": {
      "text/plain": [
       "'0x0000000000000000000000000000000000000000'"
      ]
     },
     "execution_count": 18,
     "metadata": {},
     "output_type": "execute_result"
    }
   ],
   "source": [
    "lmsrMarketMaker.whitelist()"
   ]
  },
  {
   "cell_type": "code",
   "execution_count": 19,
   "id": "5602554b",
   "metadata": {},
   "outputs": [
    {
     "data": {
      "text/plain": [
       "0"
      ]
     },
     "execution_count": 19,
     "metadata": {},
     "output_type": "execute_result"
    }
   ],
   "source": [
    "lmsrMarketMaker.fee()"
   ]
  },
  {
   "cell_type": "code",
   "execution_count": 20,
   "id": "ffc9a90a",
   "metadata": {},
   "outputs": [
    {
     "data": {
      "text/plain": [
       "1000000000000000000"
      ]
     },
     "execution_count": 20,
     "metadata": {},
     "output_type": "execute_result"
    }
   ],
   "source": [
    "lmsrMarketMaker.FEE_RANGE()"
   ]
  },
  {
   "cell_type": "code",
   "execution_count": 21,
   "id": "4f1ea7bb",
   "metadata": {},
   "outputs": [
    {
     "data": {
      "text/plain": [
       "0"
      ]
     },
     "execution_count": 21,
     "metadata": {},
     "output_type": "execute_result"
    }
   ],
   "source": [
    "lmsrMarketMaker.funding()"
   ]
  },
  {
   "cell_type": "code",
   "execution_count": 22,
   "id": "b9a97027",
   "metadata": {},
   "outputs": [
    {
     "data": {
      "text/plain": [
       "'0x03abA998B8888A2F8bdA00e5ddb8d4a598Af69BF'"
      ]
     },
     "execution_count": 22,
     "metadata": {},
     "output_type": "execute_result"
    }
   ],
   "source": [
    "lmsrMarketMaker.getOwner()"
   ]
  },
  {
   "cell_type": "code",
   "execution_count": 23,
   "id": "e4b8d088",
   "metadata": {},
   "outputs": [
    {
     "data": {
      "text/plain": [
       "0"
      ]
     },
     "execution_count": 23,
     "metadata": {},
     "output_type": "execute_result"
    }
   ],
   "source": [
    "lmsrMarketMaker.stage()"
   ]
  },
  {
   "cell_type": "code",
   "execution_count": 24,
   "id": "16adea23",
   "metadata": {},
   "outputs": [
    {
     "data": {
      "text/plain": [
       "0"
      ]
     },
     "execution_count": 24,
     "metadata": {},
     "output_type": "execute_result"
    }
   ],
   "source": [
    "lmsrMarketMaker.atomicOutcomeSlotCount()"
   ]
  },
  {
   "cell_type": "code",
   "execution_count": 25,
   "id": "57ee58c6",
   "metadata": {},
   "outputs": [],
   "source": [
    "outcomeIndex = 0\n",
    "#lmsrMarketMaker.calcMarginalPrice(outcomeIndex)"
   ]
  },
  {
   "cell_type": "code",
   "execution_count": 26,
   "id": "67159ac7",
   "metadata": {},
   "outputs": [
    {
     "data": {
      "text/plain": [
       "0"
      ]
     },
     "execution_count": 26,
     "metadata": {},
     "output_type": "execute_result"
    }
   ],
   "source": [
    "outcomeTokenCost = 10\n",
    "\n",
    "lmsrMarketMaker.calcMarketFee(outcomeTokenCost)\n",
    "\n",
    "#lmsrmm_contract.functions.calcMarketFee(outcomeTokenCost).call()\n"
   ]
  },
  {
   "cell_type": "code",
   "execution_count": 27,
   "id": "a66a8132",
   "metadata": {},
   "outputs": [],
   "source": [
    "outcomeTokenAmounts = [0,10]\n",
    "#lmsrMarketMaker.calcNetCost(outcomeTokenAmounts)"
   ]
  },
  {
   "cell_type": "code",
   "execution_count": null,
   "id": "36ac1c62",
   "metadata": {},
   "outputs": [],
   "source": [
    "#lmsrMarketMaker.conditionIds(0)"
   ]
  }
 ],
 "metadata": {
  "kernelspec": {
   "display_name": "Python 3",
   "language": "python",
   "name": "python3"
  },
  "language_info": {
   "codemirror_mode": {
    "name": "ipython",
    "version": 3
   },
   "file_extension": ".py",
   "mimetype": "text/x-python",
   "name": "python",
   "nbconvert_exporter": "python",
   "pygments_lexer": "ipython3",
   "version": "3.8.10"
  }
 },
 "nbformat": 4,
 "nbformat_minor": 5
}
