{
 "cells": [
  {
   "cell_type": "code",
   "execution_count": 1,
   "id": "ab7ba3e5",
   "metadata": {},
   "outputs": [],
   "source": [
    "from web3 import Web3\n",
    "from web3.middleware import geth_poa_middleware\n",
    "import json\n",
    "\n",
    "import os\n",
    "import sys\n",
    "sys.path.insert(0, '/Users/jianqiongzhan/Downloads/git/PredictionMarkets/cu_pm_v.1.3/app/src/blockchain/utils')\n",
    "from Web3Con import getWeb3\n",
    "from SolidityContracts import getContract\n",
    "from tx2re import transaction2receipt"
   ]
  },
  {
   "cell_type": "code",
   "execution_count": 2,
   "id": "f22db966",
   "metadata": {},
   "outputs": [],
   "source": [
    "import pprint\n",
    "from dotenv import load_dotenv\n",
    "load_dotenv()\n",
    "infura_key = os.getenv('INFURA_KEY')"
   ]
  },
  {
   "cell_type": "code",
   "execution_count": 3,
   "id": "d106bd3e",
   "metadata": {},
   "outputs": [],
   "source": [
    "# set up web provider, why this won't work?\n",
    "web_provider = 'infura'\n",
    "w3, account_admin, private_key = getWeb3(web_provider)\n",
    "# inject the poa compatibility middleware to the innermost layer\n",
    "w3.middleware_onion.clear()\n",
    "w3.middleware_onion.inject(geth_poa_middleware, layer=0)"
   ]
  },
  {
   "cell_type": "code",
   "execution_count": 4,
   "id": "186e7e63",
   "metadata": {},
   "outputs": [],
   "source": [
    "w3.eth.default_account = account_admin"
   ]
  },
  {
   "cell_type": "code",
   "execution_count": 5,
   "id": "766a0f6c",
   "metadata": {},
   "outputs": [
    {
     "name": "stdout",
     "output_type": "stream",
     "text": [
      "Contract Instance Created!\n",
      "Contract Instance Created!\n",
      "Contract Instance Created!\n",
      "Contract Instance Created!\n",
      "Contract Instance Created!\n"
     ]
    }
   ],
   "source": [
    "# get contract\n",
    "csToken_json = '../contracts_data/csTokendata.json'\n",
    "conditionalTokens_json = '../contracts_data/conditionalTokensdata.json'\n",
    "lmsrmm_json = '../contracts_data/lmsrmmdata.json'\n",
    "lmsrmmf_json = '../contracts_data/lmsrmmfdata.json'\n",
    "whitelist_json = '../contracts_data/whitelistdata.json'\n",
    "\n",
    "csToken_contract = getContract(csToken_json,w3)\n",
    "ConditionalTokens_contract = getContract(conditionalTokens_json,w3)\n",
    "lmsrmm_contract = getContract(lmsrmm_json,w3)\n",
    "lmsrmmf_contract = getContract(lmsrmmf_json,w3)\n",
    "whitelist_contract = getContract(whitelist_json,w3)"
   ]
  },
  {
   "cell_type": "markdown",
   "id": "ec830316",
   "metadata": {},
   "source": [
    "# test Repo\n",
    "* test between account_admin, and account2\n",
    "* test between account2 and lmsrmm"
   ]
  },
  {
   "cell_type": "code",
   "execution_count": 6,
   "id": "8d1ef05a",
   "metadata": {},
   "outputs": [],
   "source": [
    "account2 = '0x998818Cf86d48e6a66A7d3cbdCa895Ee37560D62'\n",
    "account3 = '0x5e971fc6A50CAEEC02FCC108E076a335b478A2E7'\n",
    "account3_key = '91c933a855549abf965f689d31693471e127ad734b93b0dbe28412f1b835f7b3'\n",
    "account2_key ='41981cf11ea41055a221faa62ab12411a27ad2e3f229396b06d956f1fb96f2bc'"
   ]
  },
  {
   "cell_type": "code",
   "execution_count": 7,
   "id": "edacd70d",
   "metadata": {},
   "outputs": [],
   "source": [
    "from csTokenRepo import csTokenRepo"
   ]
  },
  {
   "cell_type": "code",
   "execution_count": 8,
   "id": "4e3053c7",
   "metadata": {},
   "outputs": [],
   "source": [
    "csToken = csTokenRepo(w3, csToken_contract)"
   ]
  },
  {
   "cell_type": "code",
   "execution_count": 9,
   "id": "19392b5d",
   "metadata": {
    "scrolled": false
   },
   "outputs": [
    {
     "data": {
      "text/plain": [
       "0"
      ]
     },
     "execution_count": 9,
     "metadata": {},
     "output_type": "execute_result"
    }
   ],
   "source": [
    "csToken.balanceOf(account_admin)"
   ]
  },
  {
   "cell_type": "code",
   "execution_count": 10,
   "id": "c98604ea",
   "metadata": {
    "scrolled": true
   },
   "outputs": [],
   "source": [
    "#csToken.mint(account_admin, 100)"
   ]
  },
  {
   "cell_type": "code",
   "execution_count": 11,
   "id": "50b57bd9",
   "metadata": {},
   "outputs": [
    {
     "data": {
      "text/plain": [
       "0"
      ]
     },
     "execution_count": 11,
     "metadata": {},
     "output_type": "execute_result"
    }
   ],
   "source": [
    "csToken.balanceOf(account_admin)"
   ]
  },
  {
   "cell_type": "code",
   "execution_count": 12,
   "id": "676f700a",
   "metadata": {},
   "outputs": [
    {
     "data": {
      "text/plain": [
       "0"
      ]
     },
     "execution_count": 12,
     "metadata": {},
     "output_type": "execute_result"
    }
   ],
   "source": [
    "csToken.balanceOf(account2)"
   ]
  },
  {
   "cell_type": "code",
   "execution_count": 13,
   "id": "52ddaaec",
   "metadata": {},
   "outputs": [
    {
     "data": {
      "text/plain": [
       "0"
      ]
     },
     "execution_count": 13,
     "metadata": {},
     "output_type": "execute_result"
    }
   ],
   "source": [
    "csToken.allowance(account_admin, account2)"
   ]
  },
  {
   "cell_type": "code",
   "execution_count": 15,
   "id": "60e82c8c",
   "metadata": {},
   "outputs": [
    {
     "name": "stdout",
     "output_type": "stream",
     "text": [
      "Here is the tx hash: 0x0eedef160c470ce26ce035f10048921141dfe874a36daa9475958deb981fa621\n",
      "\n",
      "Was transaction successful?\n",
      "1\n"
     ]
    }
   ],
   "source": [
    "csToken.mint(account_admin, 100, account_admin, private_key, 1000000)"
   ]
  },
  {
   "cell_type": "code",
   "execution_count": 16,
   "id": "09091c48",
   "metadata": {},
   "outputs": [
    {
     "name": "stdout",
     "output_type": "stream",
     "text": [
      "Here is the tx hash: 0xf900ed2aa098f95cd88491099ef050ee0907eabd00ce022db4fe8643866812bb\n",
      "\n",
      "Was transaction successful?\n",
      "1\n"
     ]
    }
   ],
   "source": [
    "csToken.mint(account2, 100, account_admin, private_key, 1000000)"
   ]
  },
  {
   "cell_type": "code",
   "execution_count": 17,
   "id": "992f0b90",
   "metadata": {
    "scrolled": true
   },
   "outputs": [
    {
     "name": "stdout",
     "output_type": "stream",
     "text": [
      "Here is the tx hash: 0x4401f642234775363093f28f7b16daabb122806df9873e4b5776c3b37e9991b1\n",
      "\n",
      "Was transaction successful?\n",
      "1\n"
     ]
    }
   ],
   "source": [
    "csToken.mint(account3, 100, account_admin, private_key, 1000000)"
   ]
  },
  {
   "cell_type": "code",
   "execution_count": 18,
   "id": "db9e8037",
   "metadata": {
    "scrolled": true
   },
   "outputs": [
    {
     "name": "stdout",
     "output_type": "stream",
     "text": [
      "Here is the tx hash: 0x630fceb2f61dbc23c09565441048df38954523e290c3c204809f7f4e34aa1c0a\n",
      "\n",
      "Was transaction successful?\n",
      "1\n"
     ]
    }
   ],
   "source": [
    "csToken.approve(account_admin, 100, account2, account2_key, 1000000)"
   ]
  },
  {
   "cell_type": "code",
   "execution_count": 20,
   "id": "7882100a",
   "metadata": {},
   "outputs": [
    {
     "data": {
      "text/plain": [
       "100"
      ]
     },
     "execution_count": 20,
     "metadata": {},
     "output_type": "execute_result"
    }
   ],
   "source": [
    "csToken.allowance(account2, account_admin)"
   ]
  },
  {
   "cell_type": "code",
   "execution_count": 21,
   "id": "1b1d122b",
   "metadata": {},
   "outputs": [
    {
     "name": "stdout",
     "output_type": "stream",
     "text": [
      "Here is the tx hash: 0x078c309fe664453d7eed2ce257660ad688bca1fe2a311271145875a0755f85a6\n",
      "\n",
      "Was transaction successful?\n",
      "1\n"
     ]
    }
   ],
   "source": [
    "csToken.transfer(account_admin, 100, account2, account2_key, 1000000)"
   ]
  },
  {
   "cell_type": "code",
   "execution_count": 22,
   "id": "af37981a",
   "metadata": {},
   "outputs": [
    {
     "data": {
      "text/plain": [
       "0"
      ]
     },
     "execution_count": 22,
     "metadata": {},
     "output_type": "execute_result"
    }
   ],
   "source": [
    "csToken.balanceOf(account2)"
   ]
  },
  {
   "cell_type": "code",
   "execution_count": 23,
   "id": "bc884468",
   "metadata": {},
   "outputs": [
    {
     "data": {
      "text/plain": [
       "100"
      ]
     },
     "execution_count": 23,
     "metadata": {},
     "output_type": "execute_result"
    }
   ],
   "source": [
    "csToken.allowance(account2, account_admin)"
   ]
  },
  {
   "cell_type": "code",
   "execution_count": 24,
   "id": "a4161f57",
   "metadata": {},
   "outputs": [],
   "source": [
    "#csToken.decreaseAllowance(account_admin, 104, account2, account2_key, 1000000)"
   ]
  },
  {
   "cell_type": "code",
   "execution_count": 25,
   "id": "01e8a63f",
   "metadata": {},
   "outputs": [],
   "source": [
    "#csToken.allowance(account2, account_admin)"
   ]
  },
  {
   "cell_type": "code",
   "execution_count": 26,
   "id": "42b465da",
   "metadata": {},
   "outputs": [],
   "source": [
    "#csToken.increaseAllowance(account_admin, 104, account2, account2_key, 1000000)"
   ]
  },
  {
   "cell_type": "code",
   "execution_count": 28,
   "id": "e3c4ecbe",
   "metadata": {},
   "outputs": [
    {
     "data": {
      "text/plain": [
       "0"
      ]
     },
     "execution_count": 28,
     "metadata": {},
     "output_type": "execute_result"
    }
   ],
   "source": [
    "csToken.allowance(account_admin, account2)"
   ]
  },
  {
   "cell_type": "code",
   "execution_count": 29,
   "id": "1a617270",
   "metadata": {
    "scrolled": true
   },
   "outputs": [
    {
     "name": "stdout",
     "output_type": "stream",
     "text": [
      "Here is the tx hash: 0x3eaa8a307b8c109d4a39d4138802ced193b205176b22a71a228317a7cd00cd2a\n",
      "\n",
      "Was transaction successful?\n",
      "1\n"
     ]
    }
   ],
   "source": [
    "csToken.approve(account2, 100, account_admin, private_key, 1000000)"
   ]
  },
  {
   "cell_type": "code",
   "execution_count": 30,
   "id": "71262d93",
   "metadata": {},
   "outputs": [
    {
     "data": {
      "text/plain": [
       "100"
      ]
     },
     "execution_count": 30,
     "metadata": {},
     "output_type": "execute_result"
    }
   ],
   "source": [
    "csToken.allowance(account_admin, account2)"
   ]
  },
  {
   "cell_type": "code",
   "execution_count": 32,
   "id": "6aa63ca3",
   "metadata": {},
   "outputs": [
    {
     "data": {
      "text/plain": [
       "200"
      ]
     },
     "execution_count": 32,
     "metadata": {},
     "output_type": "execute_result"
    }
   ],
   "source": [
    "csToken.balanceOf(account_admin)"
   ]
  },
  {
   "cell_type": "code",
   "execution_count": 33,
   "id": "adc5e0c5",
   "metadata": {},
   "outputs": [
    {
     "data": {
      "text/plain": [
       "0"
      ]
     },
     "execution_count": 33,
     "metadata": {},
     "output_type": "execute_result"
    }
   ],
   "source": [
    "csToken.balanceOf(account2)"
   ]
  },
  {
   "cell_type": "code",
   "execution_count": 34,
   "id": "7d513ed4",
   "metadata": {},
   "outputs": [
    {
     "name": "stdout",
     "output_type": "stream",
     "text": [
      "Here is the tx hash: 0xa79ef24bb1ebced2edea5ced898dda8326f786b56ac01f431a76a64dd2e4bb22\n",
      "\n",
      "Was transaction successful?\n",
      "1\n"
     ]
    }
   ],
   "source": [
    "csToken.transfer(account2, 100, account_admin, private_key, 1000000)"
   ]
  },
  {
   "cell_type": "code",
   "execution_count": 35,
   "id": "ad79a472",
   "metadata": {},
   "outputs": [
    {
     "name": "stdout",
     "output_type": "stream",
     "text": [
      "100\n",
      "100\n",
      "100\n"
     ]
    }
   ],
   "source": [
    "print(csToken.balanceOf(account_admin))\n",
    "print(csToken.balanceOf(account2))\n",
    "print(csToken.allowance(account2, account_admin))"
   ]
  },
  {
   "cell_type": "code",
   "execution_count": 36,
   "id": "8c3b8214",
   "metadata": {},
   "outputs": [
    {
     "data": {
      "text/plain": [
       "18"
      ]
     },
     "execution_count": 36,
     "metadata": {},
     "output_type": "execute_result"
    }
   ],
   "source": [
    "csToken.decimals()"
   ]
  },
  {
   "cell_type": "code",
   "execution_count": 37,
   "id": "c7765c32",
   "metadata": {},
   "outputs": [
    {
     "data": {
      "text/plain": [
       "'Columbia Sports Token'"
      ]
     },
     "execution_count": 37,
     "metadata": {},
     "output_type": "execute_result"
    }
   ],
   "source": [
    "csToken.name()"
   ]
  },
  {
   "cell_type": "code",
   "execution_count": 38,
   "id": "d8fdf68b",
   "metadata": {},
   "outputs": [
    {
     "data": {
      "text/plain": [
       "'CST'"
      ]
     },
     "execution_count": 38,
     "metadata": {},
     "output_type": "execute_result"
    }
   ],
   "source": [
    "csToken.symbol()"
   ]
  },
  {
   "cell_type": "code",
   "execution_count": 39,
   "id": "494eb436",
   "metadata": {},
   "outputs": [
    {
     "data": {
      "text/plain": [
       "300"
      ]
     },
     "execution_count": 39,
     "metadata": {},
     "output_type": "execute_result"
    }
   ],
   "source": [
    "csToken.totalSupply()"
   ]
  },
  {
   "cell_type": "markdown",
   "id": "8acf3b36",
   "metadata": {},
   "source": [
    "#### test between account2 and lmsrmm"
   ]
  },
  {
   "cell_type": "code",
   "execution_count": 41,
   "id": "8efb6b8b",
   "metadata": {},
   "outputs": [
    {
     "data": {
      "text/plain": [
       "0"
      ]
     },
     "execution_count": 41,
     "metadata": {},
     "output_type": "execute_result"
    }
   ],
   "source": [
    "csToken.allowance(account2, lmsrmm_contract.address)"
   ]
  },
  {
   "cell_type": "code",
   "execution_count": 42,
   "id": "1ccddbcf",
   "metadata": {
    "scrolled": true
   },
   "outputs": [
    {
     "name": "stdout",
     "output_type": "stream",
     "text": [
      "Here is the tx hash: 0x707624509e66794a10820afd3c959d914eb575028b1d10bd301754ce5a6023a0\n",
      "\n",
      "Was transaction successful?\n",
      "1\n"
     ]
    }
   ],
   "source": [
    "csToken.approve(lmsrmm_contract.address, 100, account2, account2_key, 1000000)"
   ]
  },
  {
   "cell_type": "code",
   "execution_count": 43,
   "id": "e41475dd",
   "metadata": {},
   "outputs": [
    {
     "data": {
      "text/plain": [
       "100"
      ]
     },
     "execution_count": 43,
     "metadata": {},
     "output_type": "execute_result"
    }
   ],
   "source": [
    "csToken.allowance(account2, lmsrmm_contract.address)"
   ]
  },
  {
   "cell_type": "code",
   "execution_count": 44,
   "id": "a0776347",
   "metadata": {},
   "outputs": [
    {
     "data": {
      "text/plain": [
       "100"
      ]
     },
     "execution_count": 44,
     "metadata": {},
     "output_type": "execute_result"
    }
   ],
   "source": [
    "csToken.balanceOf(account2)"
   ]
  },
  {
   "cell_type": "code",
   "execution_count": 45,
   "id": "30fe386d",
   "metadata": {},
   "outputs": [
    {
     "name": "stdout",
     "output_type": "stream",
     "text": [
      "Here is the tx hash: 0x3ac3fc0a30948aedd88b96c98397a1eb30aa89c199f59375dd76b2ad1617e1f0\n",
      "\n",
      "Was transaction successful?\n",
      "1\n"
     ]
    }
   ],
   "source": [
    "csToken.transfer(lmsrmm_contract.address, 100, account2, account2_key, 1000000)"
   ]
  },
  {
   "cell_type": "code",
   "execution_count": 46,
   "id": "ea9e46df",
   "metadata": {},
   "outputs": [
    {
     "data": {
      "text/plain": [
       "100"
      ]
     },
     "execution_count": 46,
     "metadata": {},
     "output_type": "execute_result"
    }
   ],
   "source": [
    "csToken.balanceOf(lmsrmm_contract.address)"
   ]
  },
  {
   "cell_type": "code",
   "execution_count": 47,
   "id": "07fde578",
   "metadata": {},
   "outputs": [
    {
     "data": {
      "text/plain": [
       "'0x03abA998B8888A2F8bdA00e5ddb8d4a598Af69BF'"
      ]
     },
     "execution_count": 47,
     "metadata": {},
     "output_type": "execute_result"
    }
   ],
   "source": [
    "lmsrmm_contract.functions.owner().call()"
   ]
  },
  {
   "cell_type": "code",
   "execution_count": 48,
   "id": "3471b60f",
   "metadata": {},
   "outputs": [
    {
     "data": {
      "text/plain": [
       "'0x03abA998B8888A2F8bdA00e5ddb8d4a598Af69BF'"
      ]
     },
     "execution_count": 48,
     "metadata": {},
     "output_type": "execute_result"
    }
   ],
   "source": [
    "account_admin"
   ]
  },
  {
   "cell_type": "code",
   "execution_count": 49,
   "id": "990adcf2",
   "metadata": {},
   "outputs": [
    {
     "data": {
      "text/plain": [
       "0"
      ]
     },
     "execution_count": 49,
     "metadata": {},
     "output_type": "execute_result"
    }
   ],
   "source": [
    "csToken.allowance(lmsrmm_contract.address, account2)"
   ]
  },
  {
   "cell_type": "code",
   "execution_count": 50,
   "id": "59483ee0",
   "metadata": {},
   "outputs": [
    {
     "name": "stdout",
     "output_type": "stream",
     "text": [
      "Here is the tx hash: 0xb80d0803d615a719de9193afa00daefadf73ef258f10085189dbaf03af4b1b9b\n",
      "\n",
      "Was transaction successful?\n",
      "1\n"
     ]
    }
   ],
   "source": [
    "csToken.approve(account2, 100, account_admin, private_key, 1000000)"
   ]
  }
 ],
 "metadata": {
  "kernelspec": {
   "display_name": "Python 3",
   "language": "python",
   "name": "python3"
  },
  "language_info": {
   "codemirror_mode": {
    "name": "ipython",
    "version": 3
   },
   "file_extension": ".py",
   "mimetype": "text/x-python",
   "name": "python",
   "nbconvert_exporter": "python",
   "pygments_lexer": "ipython3",
   "version": "3.8.10"
  }
 },
 "nbformat": 4,
 "nbformat_minor": 5
}
