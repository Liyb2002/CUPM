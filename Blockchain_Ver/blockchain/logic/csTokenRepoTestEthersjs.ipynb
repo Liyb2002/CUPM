{
 "cells": [
  {
   "cell_type": "code",
   "execution_count": 1,
   "id": "2dcd2b43",
   "metadata": {},
   "outputs": [],
   "source": [
    "from web3 import Web3\n",
    "from web3.middleware import geth_poa_middleware\n",
    "import json\n",
    "\n",
    "import os\n",
    "import sys\n",
    "sys.path.insert(0, os.path.join(os.getcwd(), 'utils'))\n",
    "from Web3Con import getWeb3\n",
    "from SolidityContracts import getContract\n",
    "#from tx2re import transaction2receipt"
   ]
  },
  {
   "cell_type": "code",
   "execution_count": 2,
   "id": "5143396f",
   "metadata": {},
   "outputs": [],
   "source": [
    "import pprint\n",
    "from dotenv import load_dotenv\n",
    "load_dotenv()\n",
    "infura_key = os.getenv('INFURA_KEY')"
   ]
  },
  {
   "cell_type": "code",
   "execution_count": 3,
   "id": "236f53e3",
   "metadata": {},
   "outputs": [],
   "source": [
    "# set up web provider, why this won't work?\n",
    "web_provider = 'infura'\n",
    "w3, account_admin, private_key = getWeb3(web_provider)\n",
    "# inject the poa compatibility middleware to the innermost layer\n",
    "w3.middleware_onion.clear()\n",
    "w3.middleware_onion.inject(geth_poa_middleware, layer=0)"
   ]
  },
  {
   "cell_type": "code",
   "execution_count": 4,
   "id": "b82f7f68",
   "metadata": {},
   "outputs": [],
   "source": [
    "w3.eth.default_account = account_admin"
   ]
  },
  {
   "cell_type": "markdown",
   "id": "aeebd5a5",
   "metadata": {},
   "source": [
    "### load contract"
   ]
  },
  {
   "cell_type": "code",
   "execution_count": 5,
   "id": "9713d787",
   "metadata": {},
   "outputs": [
    {
     "name": "stdout",
     "output_type": "stream",
     "text": [
      "Contract Instance Created!\n"
     ]
    }
   ],
   "source": [
    "# get contract\n",
    "csToken_json = '../contracts_data/csTokendata.json'\n",
    "csToken_contract = getContract(csToken_json,w3)"
   ]
  },
  {
   "cell_type": "markdown",
   "id": "b065fe6d",
   "metadata": {},
   "source": [
    "### sign transaction"
   ]
  },
  {
   "cell_type": "code",
   "execution_count": 6,
   "id": "a4067329",
   "metadata": {},
   "outputs": [],
   "source": [
    "def transaction2receipt(w3, transaction, tx_account, tx_key, appropriate_gas_amount):\n",
    "    # since a raw transaction might not contain gas & nonce amounts, so you have to add them manually.\n",
    "    transaction.update({ 'from' : tx_account })\n",
    "    transaction.update({ 'nonce' : w3.eth.get_transaction_count(w3.toChecksumAddress(tx_account)) })\n",
    "    transaction.update({ 'gas' : appropriate_gas_amount })\n",
    "    # (2) sign_transaction\n",
    "    signed_tx = w3.eth.account.sign_transaction(transaction, tx_key)\n",
    "    # (3) send raw transaction and wait_for transaction_receipt\n",
    "    tx_hash = w3.eth.send_raw_transaction(signed_tx.rawTransaction)\n",
    "    print(f\"Here is the tx hash: {tx_hash.hex()}\")\n",
    "    tx_receipt = w3.eth.wait_for_transaction_receipt(tx_hash)\n",
    "    print(\"\\nWas transaction successful?\")\n",
    "    print(tx_receipt[\"status\"])\n",
    "    return tx_receipt"
   ]
  },
  {
   "cell_type": "code",
   "execution_count": 7,
   "id": "a3b4d4ef",
   "metadata": {},
   "outputs": [],
   "source": [
    "class csTokenRepo:\n",
    "    def __init__(self, w3, collateralTokenContract):\n",
    "        self.collateralToken = collateralTokenContract\n",
    "        self.w3 = w3\n",
    "    def mint(self, account, amount,account_admin, account_admin_key, sappropriate_gas_amount):\n",
    "        tx = self.collateralToken.functions.mint(account, amount).buildTransaction()\n",
    "        tx_receipt = transaction2receipt(self.w3, tx, account_admin, account_admin_key, sappropriate_gas_amount)\n",
    "        return tx_receipt['contractAddress']\n",
    "    def approve(self, spender, amount, fromAccount, fromAccount_key, appropriate_gas_amount = 1000000):\n",
    "        tx = self.collateralToken.functions.approve(spender, amount).buildTransaction({ 'from': fromAccount})\n",
    "        tx_receipt = transaction2receipt(self.w3, tx, fromAccount, fromAccount_key, appropriate_gas_amount)\n",
    "        return tx_receipt['contractAddress']\n",
    "    \n",
    "    def transfer(self, recipient, amount, fromAccount, fromAccount_key,appropriate_gas_amount):\n",
    "        tx = self.collateralToken.functions.transfer(recipient, amount).buildTransaction({ 'from': fromAccount})\n",
    "        tx_receipt = transaction2receipt(self.w3, tx, fromAccount, fromAccount_key, appropriate_gas_amount)\n",
    "        return tx_receipt['contractAddress']\n",
    "    \n",
    "    def balanceOf(self, account):\n",
    "        return self.collateralToken.functions. balanceOf(account).call()\n",
    "    \n",
    "    def allowance(self, owner, spender):\n",
    "        return self.collateralToken.functions.allowance(owner, spender).call()"
   ]
  },
  {
   "cell_type": "markdown",
   "id": "98f5ad18",
   "metadata": {},
   "source": [
    "# Test"
   ]
  },
  {
   "cell_type": "code",
   "execution_count": 8,
   "id": "9c15ee7e",
   "metadata": {},
   "outputs": [],
   "source": [
    "account2 = '0x998818Cf86d48e6a66A7d3cbdCa895Ee37560D62'\n",
    "account2_key ='41981cf11ea41055a221faa62ab12411a27ad2e3f229396b06d956f1fb96f2bc'\n",
    "account3 = '0x5e971fc6A50CAEEC02FCC108E076a335b478A2E7'"
   ]
  },
  {
   "cell_type": "code",
   "execution_count": 9,
   "id": "a6df38b8",
   "metadata": {},
   "outputs": [],
   "source": [
    "csToken = csTokenRepo(w3, csToken_contract)"
   ]
  },
  {
   "cell_type": "code",
   "execution_count": 20,
   "id": "f8f3a038",
   "metadata": {},
   "outputs": [],
   "source": [
    "print(f'Balance Of Account2: {csToken.balanceOf(account2)}')\n",
    "print(f'Balance Of Account3: {csToken.balanceOf(account3)}')"
   ]
  },
  {
   "cell_type": "markdown",
   "id": "8fc1fd50",
   "metadata": {},
   "source": [
    "#### Test approve and transfer from account2 to account3"
   ]
  },
  {
   "cell_type": "code",
   "execution_count": 11,
   "id": "31affb52",
   "metadata": {},
   "outputs": [
    {
     "data": {
      "text/plain": [
       "5"
      ]
     },
     "execution_count": 11,
     "metadata": {},
     "output_type": "execute_result"
    }
   ],
   "source": [
    "csToken.allowance(account2, account3)"
   ]
  },
  {
   "cell_type": "code",
   "execution_count": 19,
   "id": "5e32a6fd",
   "metadata": {
    "scrolled": true
   },
   "outputs": [],
   "source": [
    "# step 1: approve the tokens on the exchange\n",
    "#approve(spender, amount)\n",
    "csToken.approve(account3, 5, account2, account2_key, 100000000)"
   ]
  },
  {
   "cell_type": "code",
   "execution_count": 16,
   "id": "5715ec02",
   "metadata": {},
   "outputs": [
    {
     "data": {
      "text/plain": [
       "5"
      ]
     },
     "execution_count": 16,
     "metadata": {},
     "output_type": "execute_result"
    }
   ],
   "source": [
    "# step 2: check allowance(owner, spender), increase from 0 to 5\n",
    "csToken.allowance(account2, account3)"
   ]
  },
  {
   "cell_type": "code",
   "execution_count": 17,
   "id": "b1d3a47c",
   "metadata": {},
   "outputs": [
    {
     "data": {
      "text/plain": [
       "90"
      ]
     },
     "execution_count": 17,
     "metadata": {},
     "output_type": "execute_result"
    }
   ],
   "source": [
    "csToken.balanceOf(account2)"
   ]
  },
  {
   "cell_type": "code",
   "execution_count": 22,
   "id": "767aa911",
   "metadata": {},
   "outputs": [],
   "source": [
    "# setp 3: transfer(recipient, amount)\n",
    "csToken.transfer(account3, 5, account2, account2_key, 100000)"
   ]
  },
  {
   "cell_type": "code",
   "execution_count": null,
   "id": "6dcaa0e9",
   "metadata": {},
   "outputs": [],
   "source": [
    "print(f'Balance Of Account2: {csToken.balanceOf(account2)}')\n",
    "print(f'Balance Of Account3: {csToken.balanceOf(account3)}')"
   ]
  },
  {
   "cell_type": "markdown",
   "id": "68e7bcd6",
   "metadata": {},
   "source": [
    "### new transaction2receipt and new csTokenRepo"
   ]
  },
  {
   "cell_type": "code",
   "execution_count": 23,
   "id": "af459811",
   "metadata": {},
   "outputs": [],
   "source": [
    "def updateTransaction(w3, transaction, tx_account, appropriate_gas_amount):\n",
    "    # since a raw transaction might not contain gas & nonce amounts, so you have to add them manually.\n",
    "    transaction.update({ 'from' : tx_account })\n",
    "    transaction.update({ 'nonce' : w3.eth.get_transaction_count(w3.toChecksumAddress(tx_account)) })\n",
    "    transaction.update({ 'gas' : appropriate_gas_amount })\n",
    "    return transaction\n",
    "# tx_account = getMetaMaskAccount()\n",
    "# tx_receipt = somethingReturn from js"
   ]
  },
  {
   "cell_type": "code",
   "execution_count": 24,
   "id": "b873887f",
   "metadata": {},
   "outputs": [
    {
     "ename": "SyntaxError",
     "evalue": "invalid syntax (<ipython-input-24-5e328869bc1a>, line 7)",
     "output_type": "error",
     "traceback": [
      "\u001b[0;36m  File \u001b[0;32m\"<ipython-input-24-5e328869bc1a>\"\u001b[0;36m, line \u001b[0;32m7\u001b[0m\n\u001b[0;31m    tx_receipt = transaction2receiptJs(self.w3, tx, ??,appropriate_gas_amount)\u001b[0m\n\u001b[0m                                                    ^\u001b[0m\n\u001b[0;31mSyntaxError\u001b[0m\u001b[0;31m:\u001b[0m invalid syntax\n"
     ]
    }
   ],
   "source": [
    "class csTokenRepoJs:\n",
    "    def __init__(self, w3, collateralTokenContract):\n",
    "        self.collateralToken = collateralTokenContract\n",
    "        self.w3 = w3\n",
    "    def mint(self, account, amount,appropriate_gas_amount):\n",
    "        tx = self.collateralToken.functions.mint(account, amount).buildTransaction()\n",
    "        tx_receipt = transaction2receiptJs(self.w3, tx, ??,appropriate_gas_amount)\n",
    "        return tx_receipt['contractAddress']\n",
    "    def approve(self, spender, amount, fromAccount, ??):\n",
    "        tx = self.collateralToken.functions.approve(spender, amount).buildTransaction({ 'from': fromAccount})\n",
    "        tx_receipt = transaction2receipt(self.w3, tx, fromAccount, ??,appropriate_gas_amount)\n",
    "        return tx_receipt['contractAddress']\n",
    "    \n",
    "    def transfer(self, recipient, amount, fromAccount, fromAccount_key,appropriate_gas_amount):\n",
    "        tx = self.collateralToken.functions.transfer(recipient, amount).buildTransaction({ 'from': fromAccount})\n",
    "        tx_receipt = transaction2receipt(self.w3, tx, fromAccount, ??, appropriate_gas_amount)\n",
    "        return tx_receipt['contractAddress']\n",
    "    \n",
    "    def balanceOf(self, account):\n",
    "        return self.collateralToken.functions. balanceOf(account).call()\n",
    "    \n",
    "    def allowance(self, owner, spender):\n",
    "        return self.collateralToken.functions.allowance(owner, spender).call()"
   ]
  }
 ],
 "metadata": {
  "kernelspec": {
   "display_name": "Python 3",
   "language": "python",
   "name": "python3"
  },
  "language_info": {
   "codemirror_mode": {
    "name": "ipython",
    "version": 3
   },
   "file_extension": ".py",
   "mimetype": "text/x-python",
   "name": "python",
   "nbconvert_exporter": "python",
   "pygments_lexer": "ipython3",
   "version": "3.8.10"
  }
 },
 "nbformat": 4,
 "nbformat_minor": 5
}
